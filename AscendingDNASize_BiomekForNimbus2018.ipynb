{
 "cells": [
  {
   "cell_type": "code",
   "execution_count": 1,
   "metadata": {},
   "outputs": [],
   "source": [
    "import csv\n",
    "import pandas as pd"
   ]
  },
  {
   "cell_type": "code",
   "execution_count": 2,
   "metadata": {},
   "outputs": [
    {
     "name": "stdout",
     "output_type": "stream",
     "text": [
      "File_Name?echo_test.csv\n"
     ]
    }
   ],
   "source": [
    "csv_path = input(\"File_Name?\")\n"
   ]
  },
  {
   "cell_type": "code",
   "execution_count": 3,
   "metadata": {},
   "outputs": [
    {
     "data": {
      "text/plain": [
       "Index(['Index', 'TEMPLATE_PLATE', 'TEMPLATE_WELL', 'TEMPLATE_VOLUME',\n",
       "       'PRIMER1_PLATE', 'PRIMER1_WELL', 'PRIMER1_VOLUME', 'PRIMER2_PLATE',\n",
       "       'PRIMER2_WELL', 'PRIMER2_VOLUME', 'PCR_MIX_PLATE', 'PCR_MIX_WELL',\n",
       "       'PCR_MIX_VOLUME', 'OUTPUT_PLATE', 'OUTPUT_WELL', 'REACTION_NUMBER',\n",
       "       'OPTIMAL_ANNEALING_TEMP', 'THERMOCYCLER_BLOCK', 'THERMOCYCLER_ZONE',\n",
       "       'THERMOCYCLER_ZONE_ANNEALING_TEMP', 'EXPECTED_SIZE'],\n",
       "      dtype='object')"
      ]
     },
     "execution_count": 3,
     "metadata": {},
     "output_type": "execute_result"
    }
   ],
   "source": [
    "\n",
    "df = pd.read_csv(csv_path)\n",
    "df.columns\n"
   ]
  },
  {
   "cell_type": "code",
   "execution_count": 4,
   "metadata": {},
   "outputs": [],
   "source": [
    "df = df.drop(columns=['Index', 'TEMPLATE_PLATE', 'TEMPLATE_WELL', 'TEMPLATE_VOLUME',\n",
    "       'PRIMER1_PLATE', 'PRIMER1_WELL', 'PRIMER1_VOLUME', 'PRIMER2_PLATE',\n",
    "       'PRIMER2_WELL', 'PRIMER2_VOLUME', 'PCR_MIX_PLATE', 'PCR_MIX_WELL',\n",
    "       'PCR_MIX_VOLUME', 'OUTPUT_PLATE'])"
   ]
  },
  {
   "cell_type": "code",
   "execution_count": 5,
   "metadata": {},
   "outputs": [
    {
     "data": {
      "text/html": [
       "<div>\n",
       "<style scoped>\n",
       "    .dataframe tbody tr th:only-of-type {\n",
       "        vertical-align: middle;\n",
       "    }\n",
       "\n",
       "    .dataframe tbody tr th {\n",
       "        vertical-align: top;\n",
       "    }\n",
       "\n",
       "    .dataframe thead th {\n",
       "        text-align: right;\n",
       "    }\n",
       "</style>\n",
       "<table border=\"1\" class=\"dataframe\">\n",
       "  <thead>\n",
       "    <tr style=\"text-align: right;\">\n",
       "      <th></th>\n",
       "      <th>REACTION_NUMBER</th>\n",
       "      <th>OPTIMAL_ANNEALING_TEMP</th>\n",
       "      <th>THERMOCYCLER_BLOCK</th>\n",
       "      <th>THERMOCYCLER_ZONE</th>\n",
       "      <th>THERMOCYCLER_ZONE_ANNEALING_TEMP</th>\n",
       "      <th>EXPECTED_SIZE</th>\n",
       "    </tr>\n",
       "    <tr>\n",
       "      <th>OUTPUT_WELL</th>\n",
       "      <th></th>\n",
       "      <th></th>\n",
       "      <th></th>\n",
       "      <th></th>\n",
       "      <th></th>\n",
       "      <th></th>\n",
       "    </tr>\n",
       "  </thead>\n",
       "  <tbody>\n",
       "    <tr>\n",
       "      <th>A01</th>\n",
       "      <td>7</td>\n",
       "      <td>62.5</td>\n",
       "      <td>0</td>\n",
       "      <td>0</td>\n",
       "      <td>62.7</td>\n",
       "      <td>6567</td>\n",
       "    </tr>\n",
       "    <tr>\n",
       "      <th>B01</th>\n",
       "      <td>41</td>\n",
       "      <td>62.5</td>\n",
       "      <td>0</td>\n",
       "      <td>0</td>\n",
       "      <td>62.7</td>\n",
       "      <td>6567</td>\n",
       "    </tr>\n",
       "    <tr>\n",
       "      <th>C01</th>\n",
       "      <td>4</td>\n",
       "      <td>62.6</td>\n",
       "      <td>0</td>\n",
       "      <td>0</td>\n",
       "      <td>62.7</td>\n",
       "      <td>6567</td>\n",
       "    </tr>\n",
       "    <tr>\n",
       "      <th>D01</th>\n",
       "      <td>42</td>\n",
       "      <td>62.7</td>\n",
       "      <td>0</td>\n",
       "      <td>0</td>\n",
       "      <td>62.7</td>\n",
       "      <td>6567</td>\n",
       "    </tr>\n",
       "    <tr>\n",
       "      <th>E01</th>\n",
       "      <td>5</td>\n",
       "      <td>62.7</td>\n",
       "      <td>0</td>\n",
       "      <td>0</td>\n",
       "      <td>62.7</td>\n",
       "      <td>6567</td>\n",
       "    </tr>\n",
       "  </tbody>\n",
       "</table>\n",
       "</div>"
      ],
      "text/plain": [
       "             REACTION_NUMBER  OPTIMAL_ANNEALING_TEMP  THERMOCYCLER_BLOCK  \\\n",
       "OUTPUT_WELL                                                                \n",
       "A01                        7                    62.5                   0   \n",
       "B01                       41                    62.5                   0   \n",
       "C01                        4                    62.6                   0   \n",
       "D01                       42                    62.7                   0   \n",
       "E01                        5                    62.7                   0   \n",
       "\n",
       "             THERMOCYCLER_ZONE  THERMOCYCLER_ZONE_ANNEALING_TEMP  \\\n",
       "OUTPUT_WELL                                                        \n",
       "A01                          0                              62.7   \n",
       "B01                          0                              62.7   \n",
       "C01                          0                              62.7   \n",
       "D01                          0                              62.7   \n",
       "E01                          0                              62.7   \n",
       "\n",
       "             EXPECTED_SIZE  \n",
       "OUTPUT_WELL                 \n",
       "A01                   6567  \n",
       "B01                   6567  \n",
       "C01                   6567  \n",
       "D01                   6567  \n",
       "E01                   6567  "
      ]
     },
     "execution_count": 5,
     "metadata": {},
     "output_type": "execute_result"
    }
   ],
   "source": [
    "df = df.set_index('OUTPUT_WELL')\n",
    "df.head()\n"
   ]
  },
  {
   "cell_type": "code",
   "execution_count": 6,
   "metadata": {},
   "outputs": [
    {
     "data": {
      "text/html": [
       "<div>\n",
       "<style scoped>\n",
       "    .dataframe tbody tr th:only-of-type {\n",
       "        vertical-align: middle;\n",
       "    }\n",
       "\n",
       "    .dataframe tbody tr th {\n",
       "        vertical-align: top;\n",
       "    }\n",
       "\n",
       "    .dataframe thead th {\n",
       "        text-align: right;\n",
       "    }\n",
       "</style>\n",
       "<table border=\"1\" class=\"dataframe\">\n",
       "  <thead>\n",
       "    <tr style=\"text-align: right;\">\n",
       "      <th></th>\n",
       "      <th>REACTION_NUMBER</th>\n",
       "      <th>OPTIMAL_ANNEALING_TEMP</th>\n",
       "      <th>THERMOCYCLER_BLOCK</th>\n",
       "      <th>THERMOCYCLER_ZONE</th>\n",
       "      <th>THERMOCYCLER_ZONE_ANNEALING_TEMP</th>\n",
       "      <th>EXPECTED_SIZE</th>\n",
       "    </tr>\n",
       "    <tr>\n",
       "      <th>OUTPUT_WELL</th>\n",
       "      <th></th>\n",
       "      <th></th>\n",
       "      <th></th>\n",
       "      <th></th>\n",
       "      <th></th>\n",
       "      <th></th>\n",
       "    </tr>\n",
       "  </thead>\n",
       "  <tbody>\n",
       "    <tr>\n",
       "      <th>D05</th>\n",
       "      <td>1</td>\n",
       "      <td>65.6</td>\n",
       "      <td>0</td>\n",
       "      <td>2</td>\n",
       "      <td>65.7</td>\n",
       "      <td>230</td>\n",
       "    </tr>\n",
       "    <tr>\n",
       "      <th>D11</th>\n",
       "      <td>48</td>\n",
       "      <td>71.4</td>\n",
       "      <td>0</td>\n",
       "      <td>5</td>\n",
       "      <td>71.0</td>\n",
       "      <td>373</td>\n",
       "    </tr>\n",
       "    <tr>\n",
       "      <th>H01</th>\n",
       "      <td>2</td>\n",
       "      <td>62.9</td>\n",
       "      <td>0</td>\n",
       "      <td>0</td>\n",
       "      <td>62.7</td>\n",
       "      <td>832</td>\n",
       "    </tr>\n",
       "    <tr>\n",
       "      <th>B03</th>\n",
       "      <td>47</td>\n",
       "      <td>63.5</td>\n",
       "      <td>0</td>\n",
       "      <td>1</td>\n",
       "      <td>63.8</td>\n",
       "      <td>887</td>\n",
       "    </tr>\n",
       "    <tr>\n",
       "      <th>B11</th>\n",
       "      <td>45</td>\n",
       "      <td>70.4</td>\n",
       "      <td>0</td>\n",
       "      <td>5</td>\n",
       "      <td>71.0</td>\n",
       "      <td>1222</td>\n",
       "    </tr>\n",
       "  </tbody>\n",
       "</table>\n",
       "</div>"
      ],
      "text/plain": [
       "             REACTION_NUMBER  OPTIMAL_ANNEALING_TEMP  THERMOCYCLER_BLOCK  \\\n",
       "OUTPUT_WELL                                                                \n",
       "D05                        1                    65.6                   0   \n",
       "D11                       48                    71.4                   0   \n",
       "H01                        2                    62.9                   0   \n",
       "B03                       47                    63.5                   0   \n",
       "B11                       45                    70.4                   0   \n",
       "\n",
       "             THERMOCYCLER_ZONE  THERMOCYCLER_ZONE_ANNEALING_TEMP  \\\n",
       "OUTPUT_WELL                                                        \n",
       "D05                          2                              65.7   \n",
       "D11                          5                              71.0   \n",
       "H01                          0                              62.7   \n",
       "B03                          1                              63.8   \n",
       "B11                          5                              71.0   \n",
       "\n",
       "             EXPECTED_SIZE  \n",
       "OUTPUT_WELL                 \n",
       "D05                    230  \n",
       "D11                    373  \n",
       "H01                    832  \n",
       "B03                    887  \n",
       "B11                   1222  "
      ]
     },
     "execution_count": 6,
     "metadata": {},
     "output_type": "execute_result"
    }
   ],
   "source": [
    "df = df.sort_values(['EXPECTED_SIZE'],ascending=True)\n",
    "df.head()"
   ]
  },
  {
   "cell_type": "code",
   "execution_count": 7,
   "metadata": {},
   "outputs": [
    {
     "name": "stdout",
     "output_type": "stream",
     "text": [
      "Name Echo file?nimbus_Biomek\n"
     ]
    }
   ],
   "source": [
    "echo_ins = input(\"Name Echo file?\")\n"
   ]
  },
  {
   "cell_type": "code",
   "execution_count": 9,
   "metadata": {},
   "outputs": [],
   "source": [
    "df.to_csv(f\"{echo_ins}.csv\")"
   ]
  },
  {
   "cell_type": "code",
   "execution_count": null,
   "metadata": {},
   "outputs": [],
   "source": []
  }
 ],
 "metadata": {
  "kernelspec": {
   "display_name": "Python 3",
   "language": "python",
   "name": "python3"
  },
  "language_info": {
   "codemirror_mode": {
    "name": "ipython",
    "version": 3
   },
   "file_extension": ".py",
   "mimetype": "text/x-python",
   "name": "python",
   "nbconvert_exporter": "python",
   "pygments_lexer": "ipython3",
   "version": "3.6.4"
  }
 },
 "nbformat": 4,
 "nbformat_minor": 2
}
