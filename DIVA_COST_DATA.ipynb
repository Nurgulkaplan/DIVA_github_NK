{
 "cells": [
  {
   "cell_type": "code",
   "execution_count": 1,
   "metadata": {},
   "outputs": [],
   "source": [
    "# Dependencies\n",
    "import matplotlib.pyplot as plt\n",
    "import numpy as np\n",
    "import pandas as pd\n",
    "\n"
   ]
  },
  {
   "cell_type": "code",
   "execution_count": 2,
   "metadata": {},
   "outputs": [
    {
     "data": {
      "text/html": [
       "<div>\n",
       "<style scoped>\n",
       "    .dataframe tbody tr th:only-of-type {\n",
       "        vertical-align: middle;\n",
       "    }\n",
       "\n",
       "    .dataframe tbody tr th {\n",
       "        vertical-align: top;\n",
       "    }\n",
       "\n",
       "    .dataframe thead th {\n",
       "        text-align: right;\n",
       "    }\n",
       "</style>\n",
       "<table border=\"1\" class=\"dataframe\">\n",
       "  <thead>\n",
       "    <tr style=\"text-align: right;\">\n",
       "      <th></th>\n",
       "      <th>Quarter</th>\n",
       "      <th>Date</th>\n",
       "      <th>DIVA User</th>\n",
       "      <th>DIVA Project PI</th>\n",
       "      <th>JBEI-ABF DIVA Design link or Name</th>\n",
       "      <th>Project</th>\n",
       "      <th>DIVA Service</th>\n",
       "      <th>Number Rn/Construct/Sample</th>\n",
       "      <th>Cost</th>\n",
       "      <th>Project ID-Activity Code</th>\n",
       "      <th>Diva Team</th>\n",
       "      <th>Hours</th>\n",
       "      <th>Unnamed: 12</th>\n",
       "      <th>Unnamed: 13</th>\n",
       "      <th>Unnamed: 14</th>\n",
       "    </tr>\n",
       "  </thead>\n",
       "  <tbody>\n",
       "    <tr>\n",
       "      <th>0</th>\n",
       "      <td>FY2017-Q4</td>\n",
       "      <td>8/7/17</td>\n",
       "      <td>ggoyal@lbl.gov</td>\n",
       "      <td>njhillson@lbl.gov</td>\n",
       "      <td>https://diva.jbei.org/design/1543</td>\n",
       "      <td>Kalion SBV</td>\n",
       "      <td>Full DNA construction</td>\n",
       "      <td>13</td>\n",
       "      <td>$664.91</td>\n",
       "      <td>105349-002</td>\n",
       "      <td>GG</td>\n",
       "      <td>0.00</td>\n",
       "      <td>NaN</td>\n",
       "      <td>NaN</td>\n",
       "      <td>NaN</td>\n",
       "    </tr>\n",
       "    <tr>\n",
       "      <th>1</th>\n",
       "      <td>FY2017-Q4</td>\n",
       "      <td>8/31/17</td>\n",
       "      <td>constancebailey@lbl.gov</td>\n",
       "      <td>jheady@lbl.gov</td>\n",
       "      <td>NaN</td>\n",
       "      <td>NaN</td>\n",
       "      <td>DNA seq</td>\n",
       "      <td>9</td>\n",
       "      <td>$75.24</td>\n",
       "      <td>103768-001</td>\n",
       "      <td>NK</td>\n",
       "      <td>1.02</td>\n",
       "      <td>NaN</td>\n",
       "      <td>NaN</td>\n",
       "      <td>NaN</td>\n",
       "    </tr>\n",
       "    <tr>\n",
       "      <th>2</th>\n",
       "      <td>FY2017-Q4</td>\n",
       "      <td>8/31/17</td>\n",
       "      <td>akothari@lbl.gov</td>\n",
       "      <td>amukhopadhyay@lbl.gov</td>\n",
       "      <td>NaN</td>\n",
       "      <td>NaN</td>\n",
       "      <td>DNA seq</td>\n",
       "      <td>2</td>\n",
       "      <td>$16.72</td>\n",
       "      <td>101544-035</td>\n",
       "      <td>NK</td>\n",
       "      <td>0.23</td>\n",
       "      <td>NaN</td>\n",
       "      <td>NaN</td>\n",
       "      <td>NaN</td>\n",
       "    </tr>\n",
       "    <tr>\n",
       "      <th>3</th>\n",
       "      <td>FY2017-Q4</td>\n",
       "      <td>9/11/17</td>\n",
       "      <td>jblakehedges@lbl.gov</td>\n",
       "      <td>jheady@lbl.gov</td>\n",
       "      <td>NaN</td>\n",
       "      <td>NaN</td>\n",
       "      <td>DNA seq</td>\n",
       "      <td>10</td>\n",
       "      <td>$83.60</td>\n",
       "      <td>103768-001</td>\n",
       "      <td>NK</td>\n",
       "      <td>1.14</td>\n",
       "      <td>NaN</td>\n",
       "      <td>NaN</td>\n",
       "      <td>NaN</td>\n",
       "    </tr>\n",
       "    <tr>\n",
       "      <th>4</th>\n",
       "      <td>FY2017-Q4</td>\n",
       "      <td>9/14/17</td>\n",
       "      <td>azargar@lbl.gov</td>\n",
       "      <td>syuzawa@lbl.gov</td>\n",
       "      <td>NaN</td>\n",
       "      <td>NaN</td>\n",
       "      <td>DNA seq</td>\n",
       "      <td>22</td>\n",
       "      <td>$183.92</td>\n",
       "      <td>103768-001</td>\n",
       "      <td>NK</td>\n",
       "      <td>2.50</td>\n",
       "      <td>NaN</td>\n",
       "      <td>NaN</td>\n",
       "      <td>NaN</td>\n",
       "    </tr>\n",
       "  </tbody>\n",
       "</table>\n",
       "</div>"
      ],
      "text/plain": [
       "     Quarter     Date               DIVA User         DIVA Project PI  \\\n",
       "0  FY2017-Q4   8/7/17           ggoyal@lbl.gov      njhillson@lbl.gov   \n",
       "1  FY2017-Q4  8/31/17  constancebailey@lbl.gov         jheady@lbl.gov   \n",
       "2  FY2017-Q4  8/31/17         akothari@lbl.gov  amukhopadhyay@lbl.gov   \n",
       "3  FY2017-Q4  9/11/17     jblakehedges@lbl.gov         jheady@lbl.gov   \n",
       "4  FY2017-Q4  9/14/17          azargar@lbl.gov        syuzawa@lbl.gov   \n",
       "\n",
       "   JBEI-ABF DIVA Design link or Name    Project            DIVA Service  \\\n",
       "0  https://diva.jbei.org/design/1543  Kalion SBV  Full DNA construction   \n",
       "1                                NaN         NaN               DNA seq    \n",
       "2                                NaN         NaN               DNA seq    \n",
       "3                                NaN         NaN               DNA seq    \n",
       "4                                NaN         NaN               DNA seq    \n",
       "\n",
       "   Number Rn/Construct/Sample      Cost Project ID-Activity Code Diva Team  \\\n",
       "0                          13  $664.91                105349-002        GG   \n",
       "1                           9   $75.24                103768-001        NK   \n",
       "2                           2   $16.72                101544-035        NK   \n",
       "3                          10   $83.60                103768-001        NK   \n",
       "4                          22  $183.92                103768-001        NK   \n",
       "\n",
       "   Hours  Unnamed: 12  Unnamed: 13  Unnamed: 14  \n",
       "0   0.00          NaN          NaN          NaN  \n",
       "1   1.02          NaN          NaN          NaN  \n",
       "2   0.23          NaN          NaN          NaN  \n",
       "3   1.14          NaN          NaN          NaN  \n",
       "4   2.50          NaN          NaN          NaN  "
      ]
     },
     "execution_count": 2,
     "metadata": {},
     "output_type": "execute_result"
    }
   ],
   "source": [
    "# import csv, read csv\n",
    "csv_path = \"JBEI_ABF_DIVA_Cost_FY18 - final.csv\"\n",
    "csv_data_df = pd.read_csv(csv_path)\n",
    "csv_data_df.head()"
   ]
  },
  {
   "cell_type": "code",
   "execution_count": 3,
   "metadata": {},
   "outputs": [
    {
     "data": {
      "text/plain": [
       "Quarter                              166\n",
       "Date                                 166\n",
       "DIVA User                            166\n",
       "DIVA Project PI                      166\n",
       "JBEI-ABF DIVA Design link or Name     60\n",
       "Project                               60\n",
       "DIVA Service                         166\n",
       "Number Rn/Construct/Sample           166\n",
       "Cost                                 166\n",
       "Project ID-Activity Code             166\n",
       "Diva Team                            166\n",
       "Hours                                166\n",
       "Unnamed: 12                            0\n",
       "Unnamed: 13                            0\n",
       "Unnamed: 14                            0\n",
       "dtype: int64"
      ]
     },
     "execution_count": 3,
     "metadata": {},
     "output_type": "execute_result"
    }
   ],
   "source": [
    "csv_data_df.count()"
   ]
  },
  {
   "cell_type": "code",
   "execution_count": 4,
   "metadata": {},
   "outputs": [
    {
     "data": {
      "text/plain": [
       "Quarter                               object\n",
       "Date                                  object\n",
       "DIVA User                             object\n",
       "DIVA Project PI                       object\n",
       "JBEI-ABF DIVA Design link or Name     object\n",
       "Project                               object\n",
       "DIVA Service                          object\n",
       "Number Rn/Construct/Sample             int64\n",
       "Cost                                  object\n",
       "Project ID-Activity Code              object\n",
       "Diva Team                             object\n",
       "Hours                                float64\n",
       "Unnamed: 12                          float64\n",
       "Unnamed: 13                          float64\n",
       "Unnamed: 14                          float64\n",
       "dtype: object"
      ]
     },
     "execution_count": 4,
     "metadata": {},
     "output_type": "execute_result"
    }
   ],
   "source": [
    "csv_data_df.dtypes"
   ]
  },
  {
   "cell_type": "code",
   "execution_count": 5,
   "metadata": {},
   "outputs": [],
   "source": [
    "# df2=csv_data_df.convert_objects(convert_numeric=True)\n",
    "csv_data_df['Cost']=csv_data_df['Cost'].replace('[\\$,]', '', regex=True).astype(float)"
   ]
  },
  {
   "cell_type": "code",
   "execution_count": 6,
   "metadata": {},
   "outputs": [
    {
     "data": {
      "text/plain": [
       "Quarter                               object\n",
       "Date                                  object\n",
       "DIVA User                             object\n",
       "DIVA Project PI                       object\n",
       "JBEI-ABF DIVA Design link or Name     object\n",
       "Project                               object\n",
       "DIVA Service                          object\n",
       "Number Rn/Construct/Sample             int64\n",
       "Cost                                 float64\n",
       "Project ID-Activity Code              object\n",
       "Diva Team                             object\n",
       "Hours                                float64\n",
       "Unnamed: 12                          float64\n",
       "Unnamed: 13                          float64\n",
       "Unnamed: 14                          float64\n",
       "dtype: object"
      ]
     },
     "execution_count": 6,
     "metadata": {},
     "output_type": "execute_result"
    }
   ],
   "source": [
    "csv_data_df.dtypes"
   ]
  },
  {
   "cell_type": "code",
   "execution_count": 7,
   "metadata": {
    "scrolled": true
   },
   "outputs": [
    {
     "data": {
      "text/plain": [
       "Index(['Quarter', 'Date', 'DIVA User ', 'DIVA Project PI',\n",
       "       'JBEI-ABF DIVA Design link or Name', 'Project ', 'DIVA Service',\n",
       "       'Number Rn/Construct/Sample', 'Cost', 'Project ID-Activity Code',\n",
       "       'Diva Team', 'Hours', 'Unnamed: 12', 'Unnamed: 13', 'Unnamed: 14'],\n",
       "      dtype='object')"
      ]
     },
     "execution_count": 7,
     "metadata": {},
     "output_type": "execute_result"
    }
   ],
   "source": [
    "csv_data_df.columns"
   ]
  },
  {
   "cell_type": "code",
   "execution_count": 8,
   "metadata": {},
   "outputs": [
    {
     "ename": "KeyError",
     "evalue": "'Project ID Activity Code'",
     "output_type": "error",
     "traceback": [
      "\u001b[0;31m--------------------------------------------------------------\u001b[0m",
      "\u001b[0;31mKeyError\u001b[0m                     Traceback (most recent call last)",
      "\u001b[0;32m<ipython-input-8-3ea3e0a44309>\u001b[0m in \u001b[0;36m<module>\u001b[0;34m()\u001b[0m\n\u001b[0;32m----> 1\u001b[0;31m \u001b[0mcsv_data_grouped\u001b[0m \u001b[0;34m=\u001b[0m \u001b[0mcsv_data_df\u001b[0m\u001b[0;34m.\u001b[0m\u001b[0mgroupby\u001b[0m\u001b[0;34m(\u001b[0m\u001b[0;34m[\u001b[0m\u001b[0;34m\"DIVA Project PI\"\u001b[0m\u001b[0;34m,\u001b[0m\u001b[0;34m\"Quarter\"\u001b[0m\u001b[0;34m,\u001b[0m\u001b[0;34m\"Project ID Activity Code\"\u001b[0m\u001b[0;34m]\u001b[0m\u001b[0;34m)\u001b[0m\u001b[0;34m\u001b[0m\u001b[0m\n\u001b[0m\u001b[1;32m      2\u001b[0m \u001b[0mcsv_data_grouped\u001b[0m\u001b[0;34m.\u001b[0m\u001b[0mhead\u001b[0m\u001b[0;34m(\u001b[0m\u001b[0;34m)\u001b[0m\u001b[0;34m\u001b[0m\u001b[0m\n",
      "\u001b[0;32m~/anaconda3/envs/PythonData/lib/python3.6/site-packages/pandas/core/generic.py\u001b[0m in \u001b[0;36mgroupby\u001b[0;34m(self, by, axis, level, as_index, sort, group_keys, squeeze, **kwargs)\u001b[0m\n\u001b[1;32m   5160\u001b[0m         return groupby(self, by=by, axis=axis, level=level, as_index=as_index,\n\u001b[1;32m   5161\u001b[0m                        \u001b[0msort\u001b[0m\u001b[0;34m=\u001b[0m\u001b[0msort\u001b[0m\u001b[0;34m,\u001b[0m \u001b[0mgroup_keys\u001b[0m\u001b[0;34m=\u001b[0m\u001b[0mgroup_keys\u001b[0m\u001b[0;34m,\u001b[0m \u001b[0msqueeze\u001b[0m\u001b[0;34m=\u001b[0m\u001b[0msqueeze\u001b[0m\u001b[0;34m,\u001b[0m\u001b[0;34m\u001b[0m\u001b[0m\n\u001b[0;32m-> 5162\u001b[0;31m                        **kwargs)\n\u001b[0m\u001b[1;32m   5163\u001b[0m \u001b[0;34m\u001b[0m\u001b[0m\n\u001b[1;32m   5164\u001b[0m     def asfreq(self, freq, method=None, how=None, normalize=False,\n",
      "\u001b[0;32m~/anaconda3/envs/PythonData/lib/python3.6/site-packages/pandas/core/groupby.py\u001b[0m in \u001b[0;36mgroupby\u001b[0;34m(obj, by, **kwds)\u001b[0m\n\u001b[1;32m   1846\u001b[0m         \u001b[0;32mraise\u001b[0m \u001b[0mTypeError\u001b[0m\u001b[0;34m(\u001b[0m\u001b[0;34m'invalid type: %s'\u001b[0m \u001b[0;34m%\u001b[0m \u001b[0mtype\u001b[0m\u001b[0;34m(\u001b[0m\u001b[0mobj\u001b[0m\u001b[0;34m)\u001b[0m\u001b[0;34m)\u001b[0m\u001b[0;34m\u001b[0m\u001b[0m\n\u001b[1;32m   1847\u001b[0m \u001b[0;34m\u001b[0m\u001b[0m\n\u001b[0;32m-> 1848\u001b[0;31m     \u001b[0;32mreturn\u001b[0m \u001b[0mklass\u001b[0m\u001b[0;34m(\u001b[0m\u001b[0mobj\u001b[0m\u001b[0;34m,\u001b[0m \u001b[0mby\u001b[0m\u001b[0;34m,\u001b[0m \u001b[0;34m**\u001b[0m\u001b[0mkwds\u001b[0m\u001b[0;34m)\u001b[0m\u001b[0;34m\u001b[0m\u001b[0m\n\u001b[0m\u001b[1;32m   1849\u001b[0m \u001b[0;34m\u001b[0m\u001b[0m\n\u001b[1;32m   1850\u001b[0m \u001b[0;34m\u001b[0m\u001b[0m\n",
      "\u001b[0;32m~/anaconda3/envs/PythonData/lib/python3.6/site-packages/pandas/core/groupby.py\u001b[0m in \u001b[0;36m__init__\u001b[0;34m(self, obj, keys, axis, level, grouper, exclusions, selection, as_index, sort, group_keys, squeeze, **kwargs)\u001b[0m\n\u001b[1;32m    514\u001b[0m                                                     \u001b[0mlevel\u001b[0m\u001b[0;34m=\u001b[0m\u001b[0mlevel\u001b[0m\u001b[0;34m,\u001b[0m\u001b[0;34m\u001b[0m\u001b[0m\n\u001b[1;32m    515\u001b[0m                                                     \u001b[0msort\u001b[0m\u001b[0;34m=\u001b[0m\u001b[0msort\u001b[0m\u001b[0;34m,\u001b[0m\u001b[0;34m\u001b[0m\u001b[0m\n\u001b[0;32m--> 516\u001b[0;31m                                                     mutated=self.mutated)\n\u001b[0m\u001b[1;32m    517\u001b[0m \u001b[0;34m\u001b[0m\u001b[0m\n\u001b[1;32m    518\u001b[0m         \u001b[0mself\u001b[0m\u001b[0;34m.\u001b[0m\u001b[0mobj\u001b[0m \u001b[0;34m=\u001b[0m \u001b[0mobj\u001b[0m\u001b[0;34m\u001b[0m\u001b[0m\n",
      "\u001b[0;32m~/anaconda3/envs/PythonData/lib/python3.6/site-packages/pandas/core/groupby.py\u001b[0m in \u001b[0;36m_get_grouper\u001b[0;34m(obj, key, axis, level, sort, mutated, validate)\u001b[0m\n\u001b[1;32m   2932\u001b[0m                 \u001b[0min_axis\u001b[0m\u001b[0;34m,\u001b[0m \u001b[0mname\u001b[0m\u001b[0;34m,\u001b[0m \u001b[0mlevel\u001b[0m\u001b[0;34m,\u001b[0m \u001b[0mgpr\u001b[0m \u001b[0;34m=\u001b[0m \u001b[0;32mFalse\u001b[0m\u001b[0;34m,\u001b[0m \u001b[0;32mNone\u001b[0m\u001b[0;34m,\u001b[0m \u001b[0mgpr\u001b[0m\u001b[0;34m,\u001b[0m \u001b[0;32mNone\u001b[0m\u001b[0;34m\u001b[0m\u001b[0m\n\u001b[1;32m   2933\u001b[0m             \u001b[0;32melse\u001b[0m\u001b[0;34m:\u001b[0m\u001b[0;34m\u001b[0m\u001b[0m\n\u001b[0;32m-> 2934\u001b[0;31m                 \u001b[0;32mraise\u001b[0m \u001b[0mKeyError\u001b[0m\u001b[0;34m(\u001b[0m\u001b[0mgpr\u001b[0m\u001b[0;34m)\u001b[0m\u001b[0;34m\u001b[0m\u001b[0m\n\u001b[0m\u001b[1;32m   2935\u001b[0m         \u001b[0;32melif\u001b[0m \u001b[0misinstance\u001b[0m\u001b[0;34m(\u001b[0m\u001b[0mgpr\u001b[0m\u001b[0;34m,\u001b[0m \u001b[0mGrouper\u001b[0m\u001b[0;34m)\u001b[0m \u001b[0;32mand\u001b[0m \u001b[0mgpr\u001b[0m\u001b[0;34m.\u001b[0m\u001b[0mkey\u001b[0m \u001b[0;32mis\u001b[0m \u001b[0;32mnot\u001b[0m \u001b[0;32mNone\u001b[0m\u001b[0;34m:\u001b[0m\u001b[0;34m\u001b[0m\u001b[0m\n\u001b[1;32m   2936\u001b[0m             \u001b[0;31m# Add key to exclusions\u001b[0m\u001b[0;34m\u001b[0m\u001b[0;34m\u001b[0m\u001b[0m\n",
      "\u001b[0;31mKeyError\u001b[0m: 'Project ID Activity Code'"
     ]
    }
   ],
   "source": [
    "csv_data_grouped = csv_data_df.groupby([\"DIVA Project PI\",\"Quarter\",\"Project ID Activity Code\"])\n",
    "csv_data_grouped.head()"
   ]
  },
  {
   "cell_type": "code",
   "execution_count": 41,
   "metadata": {},
   "outputs": [
    {
     "data": {
      "text/plain": [
       "DIVA Project PI        Quarter    Project ID Activity Code\n",
       "AMUKHOPADHYAY@lbl.gov  FY2017-Q4  101544-035                    16.72\n",
       "HScheller@lbl.gov      FY2018-Q1  100822-013                     8.36\n",
       "HarryBeller@lbl.gov    FY2018-Q1  105129-001                   284.24\n",
       "                       FY2018-Q2  100822-046                    25.08\n",
       "                                  100822-053                    16.72\n",
       "amukhopadhyay@lbl.gov  FY2017-Q4  101544-035                     0.00\n",
       "                       FY2018-Q1  101544-035                   108.68\n",
       "azargar@lbl.gov        FY2017-Q4  103768-001                   183.92\n",
       "                       FY2018-Q1  100822-042                   100.32\n",
       "                                  103768-001                   142.12\n",
       "cjpetzold@lbl.gov      FY2017-Q4  100822-041                   203.12\n",
       "                       FY2018-Q1  100822-041                   675.93\n",
       "hrbeller@lbl.gov       FY2018-Q1  100822-018                   217.36\n",
       "                                  105129-001                   100.32\n",
       "                       FY2018-Q2  100822-043                   100.32\n",
       "                                  100822-045                   317.68\n",
       "                                  100822-054                    66.88\n",
       "hscheller@lbl.gov      FY2018-Q1  100822-013                   401.28\n",
       "jcmortimer@lbl.gov     FY2018-Q1  100822-014                     8.36\n",
       "jdheady@lbl.gov        FY2017-Q4  103768-001                    75.24\n",
       "jdkeasling@lbl.gov     FY2018-Q1  103768-001                   192.28\n",
       "                       FY2018-Q2  100822-044                   186.47\n",
       "                                  100822-051                   100.32\n",
       "                                  100822-057                    58.52\n",
       "jheady@lbl.gov         FY2017-Q4  100822-042                   342.76\n",
       "                                  103768-001                    83.60\n",
       "                       FY2018-Q1  100822-001                   217.36\n",
       "                                  100822-038                   133.76\n",
       "                                  103768-001                   192.28\n",
       "                       FY2018-Q2  100822-048                    41.80\n",
       "                                  100822-055                   150.48\n",
       "jmgladden@lbl.gov      FY2018-Q1  100822-008                   175.56\n",
       "                       FY2018-Q2  100822-049                    58.52\n",
       "                                  100822-052                    16.72\n",
       "njhillson@lbl.gov      FY2017-Q4  100822-022                   601.92\n",
       "                                  105349-002                   664.91\n",
       "                       FY2018-Q1  100822-042                   459.80\n",
       "                                  100822-049                    66.88\n",
       "                                  103832-002                  1234.46\n",
       "                                  105129-001                  4261.45\n",
       "                                  105349-002                  2316.71\n",
       "                       FY2018-Q2  100822-047                  1631.64\n",
       "                                  100822-058                  2645.64\n",
       "pdadams@lbl.gov        FY2018-Q1  100822-037                    66.88\n",
       "syuzawa@lbl.gov        FY2017-Q4  100822-042                   867.38\n",
       "                                  103768-001                   370.66\n",
       "                       FY2018-Q1  100822-023                   164.31\n",
       "                                  100822-035                   182.38\n",
       "                                  100822-042                   600.18\n",
       "                                  103768-001                   167.06\n",
       "                       FY2018-Q2  100822-042                  2341.29\n",
       "                                  100822-050                   105.20\n",
       "                                  100822-056                    16.72\n",
       "tslee@lbl.gov          FY2017-Q4  100822-019                   107.93\n",
       "Name: Cost, dtype: float64"
      ]
     },
     "execution_count": 41,
     "metadata": {},
     "output_type": "execute_result"
    }
   ],
   "source": [
    "total_cost = csv_data_grouped['Cost'].sum()\n",
    "total_cost"
   ]
  },
  {
   "cell_type": "code",
   "execution_count": 42,
   "metadata": {},
   "outputs": [
    {
     "data": {
      "text/plain": [
       "16.72"
      ]
     },
     "execution_count": 42,
     "metadata": {},
     "output_type": "execute_result"
    }
   ],
   "source": [
    "total_cost[0]"
   ]
  },
  {
   "cell_type": "code",
   "execution_count": 43,
   "metadata": {},
   "outputs": [
    {
     "data": {
      "text/html": [
       "<div>\n",
       "<style scoped>\n",
       "    .dataframe tbody tr th:only-of-type {\n",
       "        vertical-align: middle;\n",
       "    }\n",
       "\n",
       "    .dataframe tbody tr th {\n",
       "        vertical-align: top;\n",
       "    }\n",
       "\n",
       "    .dataframe thead th {\n",
       "        text-align: right;\n",
       "    }\n",
       "</style>\n",
       "<table border=\"1\" class=\"dataframe\">\n",
       "  <thead>\n",
       "    <tr style=\"text-align: right;\">\n",
       "      <th></th>\n",
       "      <th>DIVA Project PI</th>\n",
       "      <th>Quarter</th>\n",
       "      <th>Project ID Activity Code</th>\n",
       "      <th>Cost</th>\n",
       "    </tr>\n",
       "  </thead>\n",
       "  <tbody>\n",
       "    <tr>\n",
       "      <th>0</th>\n",
       "      <td>AMUKHOPADHYAY@lbl.gov</td>\n",
       "      <td>FY2017-Q4</td>\n",
       "      <td>101544-035</td>\n",
       "      <td>16.72</td>\n",
       "    </tr>\n",
       "    <tr>\n",
       "      <th>1</th>\n",
       "      <td>HScheller@lbl.gov</td>\n",
       "      <td>FY2018-Q1</td>\n",
       "      <td>100822-013</td>\n",
       "      <td>8.36</td>\n",
       "    </tr>\n",
       "    <tr>\n",
       "      <th>2</th>\n",
       "      <td>HarryBeller@lbl.gov</td>\n",
       "      <td>FY2018-Q1</td>\n",
       "      <td>105129-001</td>\n",
       "      <td>284.24</td>\n",
       "    </tr>\n",
       "    <tr>\n",
       "      <th>3</th>\n",
       "      <td>HarryBeller@lbl.gov</td>\n",
       "      <td>FY2018-Q2</td>\n",
       "      <td>100822-046</td>\n",
       "      <td>25.08</td>\n",
       "    </tr>\n",
       "    <tr>\n",
       "      <th>4</th>\n",
       "      <td>HarryBeller@lbl.gov</td>\n",
       "      <td>FY2018-Q2</td>\n",
       "      <td>100822-053</td>\n",
       "      <td>16.72</td>\n",
       "    </tr>\n",
       "  </tbody>\n",
       "</table>\n",
       "</div>"
      ],
      "text/plain": [
       "         DIVA Project PI    Quarter Project ID Activity Code    Cost\n",
       "0  AMUKHOPADHYAY@lbl.gov  FY2017-Q4               101544-035   16.72\n",
       "1      HScheller@lbl.gov  FY2018-Q1               100822-013    8.36\n",
       "2    HarryBeller@lbl.gov  FY2018-Q1               105129-001  284.24\n",
       "3    HarryBeller@lbl.gov  FY2018-Q2               100822-046   25.08\n",
       "4    HarryBeller@lbl.gov  FY2018-Q2               100822-053   16.72"
      ]
     },
     "execution_count": 43,
     "metadata": {},
     "output_type": "execute_result"
    }
   ],
   "source": [
    "total_cost_df = pd.DataFrame(total_cost).reset_index()\n",
    "total_cost_df.head()"
   ]
  },
  {
   "cell_type": "code",
   "execution_count": 46,
   "metadata": {},
   "outputs": [
    {
     "data": {
      "text/plain": [
       "<matplotlib.axes._subplots.AxesSubplot at 0x1193e64a8>"
      ]
     },
     "execution_count": 46,
     "metadata": {},
     "output_type": "execute_result"
    },
    {
     "data": {
      "image/png": "[encoded data removed]",
      "text/plain": [
       "<matplotlib.figure.Figure at 0x1114ad860>"
      ]
     },
     "metadata": {},
     "output_type": "display_data"
    }
   ],
   "source": [
    "total_cost_df.plot(kind=\"bar\",x=\"DIVA Project PI\",y=\"Cost\", figsize=(12,6))"
   ]
  },
  {
   "cell_type": "code",
   "execution_count": null,
   "metadata": {},
   "outputs": [],
   "source": []
  },
  {
   "cell_type": "code",
   "execution_count": null,
   "metadata": {},
   "outputs": [],
   "source": []
  }
 ],
 "metadata": {
  "kernelspec": {
   "display_name": "Python 3",
   "language": "python",
   "name": "python3"
  },
  "language_info": {
   "codemirror_mode": {
    "name": "ipython",
    "version": 3
   },
   "file_extension": ".py",
   "mimetype": "text/x-python",
   "name": "python",
   "nbconvert_exporter": "python",
   "pygments_lexer": "ipython3",
   "version": "3.6.4"
  }
 },
 "nbformat": 4,
 "nbformat_minor": 2
}
