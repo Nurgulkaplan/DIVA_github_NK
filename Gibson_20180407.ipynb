{
 "cells": [
  {
   "cell_type": "code",
   "execution_count": 79,
   "metadata": {},
   "outputs": [],
   "source": [
    "import csv\n",
    "import pandas as pd\n",
    "import numpy as np\n"
   ]
  },
  {
   "cell_type": "code",
   "execution_count": 82,
   "metadata": {},
   "outputs": [],
   "source": [
    "csv_path = \"assemblyfilestocondense_condensed.csv\"\n",
    "\n",
    "sections = []\n",
    "\n",
    "with open(csv_path) as file:\n",
    "    reader = csv.reader(file)\n",
    "    section = []\n",
    "    for row in reader:\n",
    "        if len(row) == 0:\n",
    "            sections.append(section)\n",
    "            section = []\n",
    "        else:\n",
    "            section.append(row)\n",
    "            sections.append(section)\n",
    "        \n"
   ]
  },
  {
   "cell_type": "code",
   "execution_count": null,
   "metadata": {},
   "outputs": [],
   "source": [
    "import csv\n",
    "import os\n",
    "import re\n",
    "import sys\n",
    "\n",
    "file_path = os.path.join(sys.argv[1])\n",
    "sections = []\n",
    "\n",
    "with open(file_path) as file:\n",
    "  reader = csv.reader(file)\n",
    "\n",
    "  section = []\n",
    "\n",
    "  for row in reader:\n",
    "    if len(row) == 0:\n",
    "      sections.append(section)\n",
    "      section = []\n",
    "    else:\n",
    "      section.append(row)\n",
    "\n",
    "  sections.append(section)\n",
    "\n",
    "\n",
    "for section_lines in sections[1:]:\n",
    "  section_title = section_lines[0][0]\n",
    "  file_name = re.sub(r'[^A-Za-z0-9]', '-', section_title) + '.csv'\n",
    "\n",
    "  with open(file_name, 'w') as new_file:\n",
    "      writer = csv.writer(new_file)\n",
    "\n",
    "      if section_title == 'Combinations of Assembly Pieces':\n",
    "        writer.writerows(section_lines[2:])\n",
    "      else:\n",
    "        writer.writerows(section_lines[1:])"
   ]
  },
  {
   "cell_type": "code",
   "execution_count": null,
   "metadata": {},
   "outputs": [],
   "source": []
  }
 ],
 "metadata": {
  "kernelspec": {
   "display_name": "Python 3",
   "language": "python",
   "name": "python3"
  },
  "language_info": {
   "codemirror_mode": {
    "name": "ipython",
    "version": 3
   },
   "file_extension": ".py",
   "mimetype": "text/x-python",
   "name": "python",
   "nbconvert_exporter": "python",
   "pygments_lexer": "ipython3",
   "version": "3.6.4"
  }
 },
 "nbformat": 4,
 "nbformat_minor": 2
}
