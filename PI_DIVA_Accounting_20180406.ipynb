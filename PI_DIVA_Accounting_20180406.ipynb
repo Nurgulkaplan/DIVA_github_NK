{
 "cells": [
  {
   "cell_type": "code",
   "execution_count": 1,
   "metadata": {},
   "outputs": [],
   "source": [
    "import csv\n",
    "import pandas as pd\n",
    "import matplotlib.pyplot as plt\n",
    "import numpy as np\n"
   ]
  },
  {
   "cell_type": "code",
   "execution_count": 2,
   "metadata": {},
   "outputs": [],
   "source": [
    "csv_path = \"JBEI_ABF_DIVA_Cost_FY18 - final.csv\"\n",
    "df = pd.read_csv(csv_path)\n",
    "# df.head()\n",
    "df = df.fillna('DNA Sequencing')"
   ]
  },
  {
   "cell_type": "code",
   "execution_count": 3,
   "metadata": {},
   "outputs": [
    {
     "data": {
      "text/html": [
       "<div>\n",
       "<style scoped>\n",
       "    .dataframe tbody tr th:only-of-type {\n",
       "        vertical-align: middle;\n",
       "    }\n",
       "\n",
       "    .dataframe tbody tr th {\n",
       "        vertical-align: top;\n",
       "    }\n",
       "\n",
       "    .dataframe thead th {\n",
       "        text-align: right;\n",
       "    }\n",
       "</style>\n",
       "<table border=\"1\" class=\"dataframe\">\n",
       "  <thead>\n",
       "    <tr style=\"text-align: right;\">\n",
       "      <th></th>\n",
       "      <th>Quarter</th>\n",
       "      <th>Date</th>\n",
       "      <th>DIVA User</th>\n",
       "      <th>DIVA Project PI</th>\n",
       "      <th>JBEI-ABF DIVA Design link or Name</th>\n",
       "      <th>Project</th>\n",
       "      <th>DIVA Service</th>\n",
       "      <th>Number Rn/Construct/Sample</th>\n",
       "      <th>Cost</th>\n",
       "      <th>Project ID-Activity Code</th>\n",
       "      <th>Diva Team</th>\n",
       "      <th>Hours</th>\n",
       "    </tr>\n",
       "  </thead>\n",
       "  <tbody>\n",
       "    <tr>\n",
       "      <th>0</th>\n",
       "      <td>FY2018-Q2</td>\n",
       "      <td>1/2/18</td>\n",
       "      <td>ggoyal@lbl.gov</td>\n",
       "      <td>njhillson@lbl.gov</td>\n",
       "      <td>https://diva.jbei.org/design/1699</td>\n",
       "      <td>Ajinomoto dodecanol Cycle2</td>\n",
       "      <td>Full DNA construction</td>\n",
       "      <td>4</td>\n",
       "      <td>$0.00</td>\n",
       "      <td>105129-001</td>\n",
       "      <td>GG</td>\n",
       "      <td>0.00</td>\n",
       "    </tr>\n",
       "    <tr>\n",
       "      <th>1</th>\n",
       "      <td>FY2018-Q2</td>\n",
       "      <td>1/2/18</td>\n",
       "      <td>ggoyal@lbl.gov</td>\n",
       "      <td>njhillson@lbl.gov</td>\n",
       "      <td>https://diva.jbei.org/design/1664</td>\n",
       "      <td>Ajinomoto dodecanol Cycle2</td>\n",
       "      <td>Full DNA construction</td>\n",
       "      <td>7</td>\n",
       "      <td>$0.00</td>\n",
       "      <td>105129-001</td>\n",
       "      <td>GG</td>\n",
       "      <td>0.00</td>\n",
       "    </tr>\n",
       "    <tr>\n",
       "      <th>2</th>\n",
       "      <td>FY2018-Q2</td>\n",
       "      <td>1/2/18</td>\n",
       "      <td>ggoyal@lbl.gov</td>\n",
       "      <td>njhillson@lbl.gov</td>\n",
       "      <td>https://diva.jbei.org/design/1697</td>\n",
       "      <td>Ajinomoto dodecanol Cycle2</td>\n",
       "      <td>Full DNA construction</td>\n",
       "      <td>3</td>\n",
       "      <td>$0.00</td>\n",
       "      <td>105129-001</td>\n",
       "      <td>GG</td>\n",
       "      <td>0.00</td>\n",
       "    </tr>\n",
       "    <tr>\n",
       "      <th>3</th>\n",
       "      <td>FY2018-Q2</td>\n",
       "      <td>1/2/18</td>\n",
       "      <td>ggoyal@lbl.gov</td>\n",
       "      <td>njhillson@lbl.gov</td>\n",
       "      <td>https://diva.jbei.org/design/1698</td>\n",
       "      <td>Ajinomoto dodecanol Cycle2</td>\n",
       "      <td>Full DNA construction</td>\n",
       "      <td>10</td>\n",
       "      <td>$0.00</td>\n",
       "      <td>105129-001</td>\n",
       "      <td>GG</td>\n",
       "      <td>0.00</td>\n",
       "    </tr>\n",
       "    <tr>\n",
       "      <th>4</th>\n",
       "      <td>FY2018-Q2</td>\n",
       "      <td>1/4/18</td>\n",
       "      <td>ggoyal@lbl.gov</td>\n",
       "      <td>njhillson@lbl.gov</td>\n",
       "      <td>DNA Sequencing</td>\n",
       "      <td>DNA Sequencing</td>\n",
       "      <td>DNA seq</td>\n",
       "      <td>105</td>\n",
       "      <td>$1,631.64</td>\n",
       "      <td>105129-001</td>\n",
       "      <td>JLC</td>\n",
       "      <td>23.08</td>\n",
       "    </tr>\n",
       "  </tbody>\n",
       "</table>\n",
       "</div>"
      ],
      "text/plain": [
       "     Quarter    Date      DIVA User     DIVA Project PI  \\\n",
       "0  FY2018-Q2  1/2/18  ggoyal@lbl.gov  njhillson@lbl.gov   \n",
       "1  FY2018-Q2  1/2/18  ggoyal@lbl.gov  njhillson@lbl.gov   \n",
       "2  FY2018-Q2  1/2/18  ggoyal@lbl.gov  njhillson@lbl.gov   \n",
       "3  FY2018-Q2  1/2/18  ggoyal@lbl.gov  njhillson@lbl.gov   \n",
       "4  FY2018-Q2  1/4/18  ggoyal@lbl.gov  njhillson@lbl.gov   \n",
       "\n",
       "   JBEI-ABF DIVA Design link or Name                    Project   \\\n",
       "0  https://diva.jbei.org/design/1699  Ajinomoto dodecanol Cycle2   \n",
       "1  https://diva.jbei.org/design/1664  Ajinomoto dodecanol Cycle2   \n",
       "2  https://diva.jbei.org/design/1697  Ajinomoto dodecanol Cycle2   \n",
       "3  https://diva.jbei.org/design/1698  Ajinomoto dodecanol Cycle2   \n",
       "4                     DNA Sequencing              DNA Sequencing   \n",
       "\n",
       "            DIVA Service  Number Rn/Construct/Sample        Cost  \\\n",
       "0  Full DNA construction                           4      $0.00    \n",
       "1  Full DNA construction                           7      $0.00    \n",
       "2  Full DNA construction                           3      $0.00    \n",
       "3  Full DNA construction                          10      $0.00    \n",
       "4               DNA seq                          105  $1,631.64    \n",
       "\n",
       "  Project ID-Activity Code Diva Team  Hours  \n",
       "0               105129-001        GG   0.00  \n",
       "1               105129-001        GG   0.00  \n",
       "2               105129-001        GG   0.00  \n",
       "3               105129-001        GG   0.00  \n",
       "4               105129-001       JLC  23.08  "
      ]
     },
     "execution_count": 3,
     "metadata": {},
     "output_type": "execute_result"
    }
   ],
   "source": [
    "df.head()"
   ]
  },
  {
   "cell_type": "code",
   "execution_count": 4,
   "metadata": {},
   "outputs": [
    {
     "data": {
      "text/plain": [
       "Index(['Quarter', 'Date', 'DIVA User ', 'DIVA Project PI',\n",
       "       'JBEI-ABF DIVA Design link or Name', 'Project ', 'DIVA Service',\n",
       "       'Number Rn/Construct/Sample', 'Cost', 'Project ID-Activity Code',\n",
       "       'Diva Team', 'Hours'],\n",
       "      dtype='object')"
      ]
     },
     "execution_count": 4,
     "metadata": {},
     "output_type": "execute_result"
    }
   ],
   "source": [
    "df.columns"
   ]
  },
  {
   "cell_type": "code",
   "execution_count": 5,
   "metadata": {},
   "outputs": [
    {
     "data": {
      "text/html": [
       "<div>\n",
       "<style scoped>\n",
       "    .dataframe tbody tr th:only-of-type {\n",
       "        vertical-align: middle;\n",
       "    }\n",
       "\n",
       "    .dataframe tbody tr th {\n",
       "        vertical-align: top;\n",
       "    }\n",
       "\n",
       "    .dataframe thead th {\n",
       "        text-align: right;\n",
       "    }\n",
       "</style>\n",
       "<table border=\"1\" class=\"dataframe\">\n",
       "  <thead>\n",
       "    <tr style=\"text-align: right;\">\n",
       "      <th></th>\n",
       "      <th></th>\n",
       "      <th>Number Rn/Construct/Sample</th>\n",
       "      <th>Hours</th>\n",
       "    </tr>\n",
       "    <tr>\n",
       "      <th>Project ID-Activity Code</th>\n",
       "      <th>DIVA Service</th>\n",
       "      <th></th>\n",
       "      <th></th>\n",
       "    </tr>\n",
       "  </thead>\n",
       "  <tbody>\n",
       "    <tr>\n",
       "      <th>100822-001</th>\n",
       "      <th>DNA seq</th>\n",
       "      <td>5</td>\n",
       "      <td>1.10</td>\n",
       "    </tr>\n",
       "    <tr>\n",
       "      <th>100822-008</th>\n",
       "      <th>DNA seq</th>\n",
       "      <td>53</td>\n",
       "      <td>10.89</td>\n",
       "    </tr>\n",
       "    <tr>\n",
       "      <th rowspan=\"2\" valign=\"top\">100822-013</th>\n",
       "      <th>DNA seq</th>\n",
       "      <td>44</td>\n",
       "      <td>5.16</td>\n",
       "    </tr>\n",
       "    <tr>\n",
       "      <th>Full DNA construction</th>\n",
       "      <td>22</td>\n",
       "      <td>2.25</td>\n",
       "    </tr>\n",
       "    <tr>\n",
       "      <th>100822-018</th>\n",
       "      <th>DNA seq</th>\n",
       "      <td>27</td>\n",
       "      <td>5.81</td>\n",
       "    </tr>\n",
       "    <tr>\n",
       "      <th>100822-020</th>\n",
       "      <th>PCR only</th>\n",
       "      <td>9</td>\n",
       "      <td>12.00</td>\n",
       "    </tr>\n",
       "    <tr>\n",
       "      <th>100822-023</th>\n",
       "      <th>DNA seq</th>\n",
       "      <td>24</td>\n",
       "      <td>1.56</td>\n",
       "    </tr>\n",
       "    <tr>\n",
       "      <th>100822-037</th>\n",
       "      <th>DNA seq</th>\n",
       "      <td>1</td>\n",
       "      <td>0.21</td>\n",
       "    </tr>\n",
       "    <tr>\n",
       "      <th rowspan=\"3\" valign=\"top\">100822-042</th>\n",
       "      <th>DNA seq</th>\n",
       "      <td>189</td>\n",
       "      <td>22.16</td>\n",
       "    </tr>\n",
       "    <tr>\n",
       "      <th>Full DNA construction</th>\n",
       "      <td>52</td>\n",
       "      <td>40.00</td>\n",
       "    </tr>\n",
       "    <tr>\n",
       "      <th>PCR only</th>\n",
       "      <td>193</td>\n",
       "      <td>100.02</td>\n",
       "    </tr>\n",
       "    <tr>\n",
       "      <th>101544-035</th>\n",
       "      <th>DNA seq</th>\n",
       "      <td>30</td>\n",
       "      <td>2.89</td>\n",
       "    </tr>\n",
       "    <tr>\n",
       "      <th>103768-001</th>\n",
       "      <th>DNA seq</th>\n",
       "      <td>74</td>\n",
       "      <td>10.65</td>\n",
       "    </tr>\n",
       "    <tr>\n",
       "      <th>103832-002</th>\n",
       "      <th>DNA seq</th>\n",
       "      <td>62</td>\n",
       "      <td>13.12</td>\n",
       "    </tr>\n",
       "    <tr>\n",
       "      <th>103832-005</th>\n",
       "      <th>Full DNA construction</th>\n",
       "      <td>10</td>\n",
       "      <td>40.00</td>\n",
       "    </tr>\n",
       "    <tr>\n",
       "      <th rowspan=\"2\" valign=\"top\">105129-001</th>\n",
       "      <th>DNA seq</th>\n",
       "      <td>796</td>\n",
       "      <td>108.25</td>\n",
       "    </tr>\n",
       "    <tr>\n",
       "      <th>Full DNA construction</th>\n",
       "      <td>24</td>\n",
       "      <td>0.00</td>\n",
       "    </tr>\n",
       "    <tr>\n",
       "      <th>105349-001</th>\n",
       "      <th>DNA seq</th>\n",
       "      <td>50</td>\n",
       "      <td>0.00</td>\n",
       "    </tr>\n",
       "  </tbody>\n",
       "</table>\n",
       "</div>"
      ],
      "text/plain": [
       "                                                Number Rn/Construct/Sample  \\\n",
       "Project ID-Activity Code DIVA Service                                        \n",
       "100822-001               DNA seq                                         5   \n",
       "100822-008               DNA seq                                        53   \n",
       "100822-013               DNA seq                                        44   \n",
       "                         Full DNA construction                          22   \n",
       "100822-018               DNA seq                                        27   \n",
       "100822-020               PCR only                                        9   \n",
       "100822-023               DNA seq                                        24   \n",
       "100822-037               DNA seq                                         1   \n",
       "100822-042               DNA seq                                       189   \n",
       "                         Full DNA construction                          52   \n",
       "                         PCR only                                      193   \n",
       "101544-035               DNA seq                                        30   \n",
       "103768-001               DNA seq                                        74   \n",
       "103832-002               DNA seq                                        62   \n",
       "103832-005               Full DNA construction                          10   \n",
       "105129-001               DNA seq                                       796   \n",
       "                         Full DNA construction                          24   \n",
       "105349-001               DNA seq                                        50   \n",
       "\n",
       "                                                 Hours  \n",
       "Project ID-Activity Code DIVA Service                   \n",
       "100822-001               DNA seq                  1.10  \n",
       "100822-008               DNA seq                 10.89  \n",
       "100822-013               DNA seq                  5.16  \n",
       "                         Full DNA construction    2.25  \n",
       "100822-018               DNA seq                  5.81  \n",
       "100822-020               PCR only                12.00  \n",
       "100822-023               DNA seq                  1.56  \n",
       "100822-037               DNA seq                  0.21  \n",
       "100822-042               DNA seq                 22.16  \n",
       "                         Full DNA construction   40.00  \n",
       "                         PCR only               100.02  \n",
       "101544-035               DNA seq                  2.89  \n",
       "103768-001               DNA seq                 10.65  \n",
       "103832-002               DNA seq                 13.12  \n",
       "103832-005               Full DNA construction   40.00  \n",
       "105129-001               DNA seq                108.25  \n",
       "                         Full DNA construction    0.00  \n",
       "105349-001               DNA seq                  0.00  "
      ]
     },
     "execution_count": 5,
     "metadata": {},
     "output_type": "execute_result"
    }
   ],
   "source": [
    "# Total Cost per project ID\n",
    "# Total Labor hours per project ID\n",
    "Project_ID_df= df.groupby([\"Project ID-Activity Code\",\"DIVA Service\"]).sum()\n",
    "Project_ID_df\n",
    "\n"
   ]
  },
  {
   "cell_type": "code",
   "execution_count": 6,
   "metadata": {},
   "outputs": [],
   "source": [
    "# Project_ID_df[\"Cost\"].plot(kind=\"bar\",figsize=(16,4), title=\"DIVA Service Reagent Cost\",grid=True, rot=45)\n",
    "\n"
   ]
  },
  {
   "cell_type": "code",
   "execution_count": 7,
   "metadata": {},
   "outputs": [
    {
     "data": {
      "text/plain": [
       "<matplotlib.axes._subplots.AxesSubplot at 0x11315f438>"
      ]
     },
     "execution_count": 7,
     "metadata": {},
     "output_type": "execute_result"
    },
    {
     "data": {
      "image/png": "[encoded data removed]",
      "text/plain": [
       "<matplotlib.figure.Figure at 0x113186dd8>"
      ]
     },
     "metadata": {},
     "output_type": "display_data"
    }
   ],
   "source": [
    "Project_ID_df[\"Hours\"].plot(kind=\"bar\",figsize=(16,4),title=\"DIVA Team Labor Hours\",grid=True, rot=45)\n",
    "\n"
   ]
  },
  {
   "cell_type": "code",
   "execution_count": 8,
   "metadata": {},
   "outputs": [
    {
     "data": {
      "text/html": [
       "<div>\n",
       "<style scoped>\n",
       "    .dataframe tbody tr th:only-of-type {\n",
       "        vertical-align: middle;\n",
       "    }\n",
       "\n",
       "    .dataframe tbody tr th {\n",
       "        vertical-align: top;\n",
       "    }\n",
       "\n",
       "    .dataframe thead th {\n",
       "        text-align: right;\n",
       "    }\n",
       "</style>\n",
       "<table border=\"1\" class=\"dataframe\">\n",
       "  <thead>\n",
       "    <tr style=\"text-align: right;\">\n",
       "      <th></th>\n",
       "      <th>Number Rn/Construct/Sample</th>\n",
       "      <th>Hours</th>\n",
       "    </tr>\n",
       "    <tr>\n",
       "      <th>DIVA Service</th>\n",
       "      <th></th>\n",
       "      <th></th>\n",
       "    </tr>\n",
       "  </thead>\n",
       "  <tbody>\n",
       "    <tr>\n",
       "      <th>DNA seq</th>\n",
       "      <td>1355</td>\n",
       "      <td>181.80</td>\n",
       "    </tr>\n",
       "    <tr>\n",
       "      <th>Full DNA construction</th>\n",
       "      <td>108</td>\n",
       "      <td>82.25</td>\n",
       "    </tr>\n",
       "    <tr>\n",
       "      <th>PCR only</th>\n",
       "      <td>202</td>\n",
       "      <td>112.02</td>\n",
       "    </tr>\n",
       "  </tbody>\n",
       "</table>\n",
       "</div>"
      ],
      "text/plain": [
       "                       Number Rn/Construct/Sample   Hours\n",
       "DIVA Service                                             \n",
       "DNA seq                                      1355  181.80\n",
       "Full DNA construction                         108   82.25\n",
       "PCR only                                      202  112.02"
      ]
     },
     "execution_count": 8,
     "metadata": {},
     "output_type": "execute_result"
    },
    {
     "data": {
      "image/png": "[encoded data removed]",
      "text/plain": [
       "<matplotlib.figure.Figure at 0x11c0cc630>"
      ]
     },
     "metadata": {},
     "output_type": "display_data"
    }
   ],
   "source": [
    "df_DIVA_Service = df.groupby([\"DIVA Service\"]).sum()\n",
    "df_DIVA_Service[\"Number Rn/Construct/Sample\"].plot(kind=\"pie\",figsize=(6,6), title =\"DIVA Service Usage\",shadow= True,startangle=140)\n",
    "\n",
    "df_DIVA_Service\n",
    "\n"
   ]
  },
  {
   "cell_type": "code",
   "execution_count": 9,
   "metadata": {},
   "outputs": [
    {
     "data": {
      "text/plain": [
       "Text(0.5,1,'DIVA Service FY2018_Q2 Summary')"
      ]
     },
     "execution_count": 9,
     "metadata": {},
     "output_type": "execute_result"
    },
    {
     "data": {
      "image/png": "[encoded data removed]",
      "text/plain": [
       "<matplotlib.figure.Figure at 0x11c2d0a58>"
      ]
     },
     "metadata": {},
     "output_type": "display_data"
    }
   ],
   "source": [
    "plt.bar(df[\"Date\"],df[\"Number Rn/Construct/Sample\"])\n",
    "plt.xticks(rotation=45)\n",
    "plt.xlabel(\"Timeline\")\n",
    "plt.ylabel(\"Number Rn/Construct/Sample\")\n",
    "plt.title(\"DIVA Service FY2018_Q2 Summary\")\n",
    "\n"
   ]
  },
  {
   "cell_type": "code",
   "execution_count": 10,
   "metadata": {},
   "outputs": [
    {
     "data": {
      "text/html": [
       "<div>\n",
       "<style scoped>\n",
       "    .dataframe tbody tr th:only-of-type {\n",
       "        vertical-align: middle;\n",
       "    }\n",
       "\n",
       "    .dataframe tbody tr th {\n",
       "        vertical-align: top;\n",
       "    }\n",
       "\n",
       "    .dataframe thead th {\n",
       "        text-align: right;\n",
       "    }\n",
       "</style>\n",
       "<table border=\"1\" class=\"dataframe\">\n",
       "  <thead>\n",
       "    <tr style=\"text-align: right;\">\n",
       "      <th></th>\n",
       "      <th>Hours</th>\n",
       "    </tr>\n",
       "    <tr>\n",
       "      <th>Project ID-Activity Code</th>\n",
       "      <th></th>\n",
       "    </tr>\n",
       "  </thead>\n",
       "  <tbody>\n",
       "    <tr>\n",
       "      <th>100822-001</th>\n",
       "      <td>1.10</td>\n",
       "    </tr>\n",
       "    <tr>\n",
       "      <th>100822-008</th>\n",
       "      <td>10.89</td>\n",
       "    </tr>\n",
       "    <tr>\n",
       "      <th>100822-013</th>\n",
       "      <td>7.41</td>\n",
       "    </tr>\n",
       "    <tr>\n",
       "      <th>100822-018</th>\n",
       "      <td>5.81</td>\n",
       "    </tr>\n",
       "    <tr>\n",
       "      <th>100822-020</th>\n",
       "      <td>12.00</td>\n",
       "    </tr>\n",
       "    <tr>\n",
       "      <th>100822-023</th>\n",
       "      <td>1.56</td>\n",
       "    </tr>\n",
       "    <tr>\n",
       "      <th>100822-037</th>\n",
       "      <td>0.21</td>\n",
       "    </tr>\n",
       "    <tr>\n",
       "      <th>100822-042</th>\n",
       "      <td>162.18</td>\n",
       "    </tr>\n",
       "    <tr>\n",
       "      <th>101544-035</th>\n",
       "      <td>2.89</td>\n",
       "    </tr>\n",
       "    <tr>\n",
       "      <th>103768-001</th>\n",
       "      <td>10.65</td>\n",
       "    </tr>\n",
       "    <tr>\n",
       "      <th>103832-002</th>\n",
       "      <td>13.12</td>\n",
       "    </tr>\n",
       "    <tr>\n",
       "      <th>103832-005</th>\n",
       "      <td>40.00</td>\n",
       "    </tr>\n",
       "    <tr>\n",
       "      <th>105129-001</th>\n",
       "      <td>108.25</td>\n",
       "    </tr>\n",
       "    <tr>\n",
       "      <th>105349-001</th>\n",
       "      <td>0.00</td>\n",
       "    </tr>\n",
       "  </tbody>\n",
       "</table>\n",
       "</div>"
      ],
      "text/plain": [
       "                           Hours\n",
       "Project ID-Activity Code        \n",
       "100822-001                  1.10\n",
       "100822-008                 10.89\n",
       "100822-013                  7.41\n",
       "100822-018                  5.81\n",
       "100822-020                 12.00\n",
       "100822-023                  1.56\n",
       "100822-037                  0.21\n",
       "100822-042                162.18\n",
       "101544-035                  2.89\n",
       "103768-001                 10.65\n",
       "103832-002                 13.12\n",
       "103832-005                 40.00\n",
       "105129-001                108.25\n",
       "105349-001                  0.00"
      ]
     },
     "execution_count": 10,
     "metadata": {},
     "output_type": "execute_result"
    }
   ],
   "source": [
    "DIVA_Reagents_Cost = df.groupby([\"Project ID-Activity Code\"]).sum()\n",
    "DIVA_Reagents_Cost = DIVA_Reagents_Cost.drop(columns=[\"Number Rn/Construct/Sample\"])\n",
    "DIVA_Reagents_Cost"
   ]
  },
  {
   "cell_type": "code",
   "execution_count": 11,
   "metadata": {},
   "outputs": [
    {
     "data": {
      "text/plain": [
       "Hours    376.07\n",
       "dtype: float64"
      ]
     },
     "execution_count": 11,
     "metadata": {},
     "output_type": "execute_result"
    }
   ],
   "source": [
    "DIVA_Reagents_Cost.sum()"
   ]
  },
  {
   "cell_type": "code",
   "execution_count": 12,
   "metadata": {},
   "outputs": [
    {
     "data": {
      "text/html": [
       "<div>\n",
       "<style scoped>\n",
       "    .dataframe tbody tr th:only-of-type {\n",
       "        vertical-align: middle;\n",
       "    }\n",
       "\n",
       "    .dataframe tbody tr th {\n",
       "        vertical-align: top;\n",
       "    }\n",
       "\n",
       "    .dataframe thead th {\n",
       "        text-align: right;\n",
       "    }\n",
       "</style>\n",
       "<table border=\"1\" class=\"dataframe\">\n",
       "  <thead>\n",
       "    <tr style=\"text-align: right;\">\n",
       "      <th></th>\n",
       "      <th></th>\n",
       "      <th>Number Rn/Construct/Sample</th>\n",
       "      <th>Hours</th>\n",
       "    </tr>\n",
       "    <tr>\n",
       "      <th>DIVA Project PI</th>\n",
       "      <th>DIVA User</th>\n",
       "      <th></th>\n",
       "      <th></th>\n",
       "    </tr>\n",
       "  </thead>\n",
       "  <tbody>\n",
       "    <tr>\n",
       "      <th>ageudes@lbl.gov</th>\n",
       "      <th>ageudes@lbl.gov</th>\n",
       "      <td>22</td>\n",
       "      <td>2.25</td>\n",
       "    </tr>\n",
       "    <tr>\n",
       "      <th rowspan=\"2\" valign=\"top\">amukhopadhyay@lbl.gov</th>\n",
       "      <th>akothari@lbl.gov</th>\n",
       "      <td>30</td>\n",
       "      <td>2.89</td>\n",
       "    </tr>\n",
       "    <tr>\n",
       "      <th>mwehrs@lbl.gov</th>\n",
       "      <td>9</td>\n",
       "      <td>12.00</td>\n",
       "    </tr>\n",
       "    <tr>\n",
       "      <th rowspan=\"3\" valign=\"top\">hrbeller@lbl.gov</th>\n",
       "      <th>avrodrigues@lbl.gov</th>\n",
       "      <td>27</td>\n",
       "      <td>5.81</td>\n",
       "    </tr>\n",
       "    <tr>\n",
       "      <th>paulopgenorth@lbl.gov</th>\n",
       "      <td>21</td>\n",
       "      <td>5.12</td>\n",
       "    </tr>\n",
       "    <tr>\n",
       "      <th>tokada@lbl.gov</th>\n",
       "      <td>99</td>\n",
       "      <td>20.46</td>\n",
       "    </tr>\n",
       "    <tr>\n",
       "      <th rowspan=\"2\" valign=\"top\">hscheller@lbl.gov</th>\n",
       "      <th>ageudes@lbl.gov</th>\n",
       "      <td>20</td>\n",
       "      <td>1.29</td>\n",
       "    </tr>\n",
       "    <tr>\n",
       "      <th>yliang@lbl.gov</th>\n",
       "      <td>24</td>\n",
       "      <td>3.87</td>\n",
       "    </tr>\n",
       "    <tr>\n",
       "      <th>jdkeasling@lbl.gov</th>\n",
       "      <th>spalluk@lbl.gov</th>\n",
       "      <td>146</td>\n",
       "      <td>14.50</td>\n",
       "    </tr>\n",
       "    <tr>\n",
       "      <th rowspan=\"3\" valign=\"top\">jmgladden@lbl.gov</th>\n",
       "      <th>jkirby@lbl.gov</th>\n",
       "      <td>38</td>\n",
       "      <td>8.04</td>\n",
       "    </tr>\n",
       "    <tr>\n",
       "      <th>jmeadows@lbl.gov</th>\n",
       "      <td>11</td>\n",
       "      <td>2.00</td>\n",
       "    </tr>\n",
       "    <tr>\n",
       "      <th>stcoradetti@lbl.gov</th>\n",
       "      <td>52</td>\n",
       "      <td>48.89</td>\n",
       "    </tr>\n",
       "    <tr>\n",
       "      <th rowspan=\"2\" valign=\"top\">njhillson@lbl.gov</th>\n",
       "      <th>ggoyal@lbl.gov</th>\n",
       "      <td>750</td>\n",
       "      <td>82.67</td>\n",
       "    </tr>\n",
       "    <tr>\n",
       "      <th>jlchiniquy@lbl.gov</th>\n",
       "      <td>24</td>\n",
       "      <td>5.08</td>\n",
       "    </tr>\n",
       "    <tr>\n",
       "      <th>pdadams@lbl.gov</th>\n",
       "      <th>adegiovanni@lbl.gov</th>\n",
       "      <td>1</td>\n",
       "      <td>0.21</td>\n",
       "    </tr>\n",
       "    <tr>\n",
       "      <th rowspan=\"7\" valign=\"top\">syuzawa@lbl.gov</th>\n",
       "      <th>azargar@lbl.gov</th>\n",
       "      <td>43</td>\n",
       "      <td>7.40</td>\n",
       "    </tr>\n",
       "    <tr>\n",
       "      <th>bopang@lbl.gov</th>\n",
       "      <td>2</td>\n",
       "      <td>0.33</td>\n",
       "    </tr>\n",
       "    <tr>\n",
       "      <th>ceiben@lbl.gov</th>\n",
       "      <td>168</td>\n",
       "      <td>51.35</td>\n",
       "    </tr>\n",
       "    <tr>\n",
       "      <th>dongliu2@lbl.gov</th>\n",
       "      <td>11</td>\n",
       "      <td>12.67</td>\n",
       "    </tr>\n",
       "    <tr>\n",
       "      <th>jblakehedges@lbl.gov</th>\n",
       "      <td>110</td>\n",
       "      <td>48.67</td>\n",
       "    </tr>\n",
       "    <tr>\n",
       "      <th>mthompson@lbl.gov</th>\n",
       "      <td>20</td>\n",
       "      <td>17.23</td>\n",
       "    </tr>\n",
       "    <tr>\n",
       "      <th>pcruzmorales@lbl.gov</th>\n",
       "      <td>37</td>\n",
       "      <td>23.34</td>\n",
       "    </tr>\n",
       "  </tbody>\n",
       "</table>\n",
       "</div>"
      ],
      "text/plain": [
       "                                             Number Rn/Construct/Sample  Hours\n",
       "DIVA Project PI       DIVA User                                               \n",
       "ageudes@lbl.gov       ageudes@lbl.gov                                22   2.25\n",
       "amukhopadhyay@lbl.gov akothari@lbl.gov                               30   2.89\n",
       "                      mwehrs@lbl.gov                                  9  12.00\n",
       "hrbeller@lbl.gov      avrodrigues@lbl.gov                            27   5.81\n",
       "                      paulopgenorth@lbl.gov                          21   5.12\n",
       "                      tokada@lbl.gov                                 99  20.46\n",
       "hscheller@lbl.gov     ageudes@lbl.gov                                20   1.29\n",
       "                      yliang@lbl.gov                                 24   3.87\n",
       "jdkeasling@lbl.gov    spalluk@lbl.gov                               146  14.50\n",
       "jmgladden@lbl.gov     jkirby@lbl.gov                                 38   8.04\n",
       "                      jmeadows@lbl.gov                               11   2.00\n",
       "                      stcoradetti@lbl.gov                            52  48.89\n",
       "njhillson@lbl.gov     ggoyal@lbl.gov                                750  82.67\n",
       "                      jlchiniquy@lbl.gov                             24   5.08\n",
       "pdadams@lbl.gov       adegiovanni@lbl.gov                             1   0.21\n",
       "syuzawa@lbl.gov       azargar@lbl.gov                                43   7.40\n",
       "                      bopang@lbl.gov                                  2   0.33\n",
       "                      ceiben@lbl.gov                                168  51.35\n",
       "                      dongliu2@lbl.gov                               11  12.67\n",
       "                      jblakehedges@lbl.gov                          110  48.67\n",
       "                      mthompson@lbl.gov                              20  17.23\n",
       "                      pcruzmorales@lbl.gov                           37  23.34"
      ]
     },
     "execution_count": 12,
     "metadata": {},
     "output_type": "execute_result"
    }
   ],
   "source": [
    "df_PI_user = df.groupby([\"DIVA Project PI\",\"DIVA User \"]).sum()\n",
    "df_PI_user"
   ]
  },
  {
   "cell_type": "code",
   "execution_count": 13,
   "metadata": {},
   "outputs": [
    {
     "data": {
      "text/plain": [
       "(array([ 0,  1,  2,  3,  4,  5,  6,  7,  8,  9, 10, 11, 12, 13, 14, 15, 16,\n",
       "        17, 18, 19, 20]), <a list of 21 Text xticklabel objects>)"
      ]
     },
     "execution_count": 13,
     "metadata": {},
     "output_type": "execute_result"
    },
    {
     "data": {
      "image/png": "[encoded data removed]",
      "text/plain": [
       "<matplotlib.figure.Figure at 0x11c5167b8>"
      ]
     },
     "metadata": {},
     "output_type": "display_data"
    }
   ],
   "source": [
    "df_PI_user_test = df_PI_user.reset_index()\n",
    "\n",
    "\n",
    "df_PI_user_test.pivot(index='DIVA User ',values='Number Rn/Construct/Sample',columns='DIVA Project PI').plot(kind='bar',stacked=True,figsize=(16,8))\n",
    "plt.ylabel(\"Number Rn/Construct/Sample\")\n",
    "\n",
    "plt.xticks(rotation=45)"
   ]
  },
  {
   "cell_type": "code",
   "execution_count": 14,
   "metadata": {},
   "outputs": [
    {
     "data": {
      "text/plain": [
       "array(['njhillson@lbl.gov', 'jmgladden@lbl.gov', 'syuzawa@lbl.gov',\n",
       "       'jdkeasling@lbl.gov', 'hrbeller@lbl.gov', 'amukhopadhyay@lbl.gov',\n",
       "       'hscheller@lbl.gov', 'pdadams@lbl.gov', 'ageudes@lbl.gov'],\n",
       "      dtype=object)"
      ]
     },
     "execution_count": 14,
     "metadata": {},
     "output_type": "execute_result"
    }
   ],
   "source": [
    "PI_list = df[\"DIVA Project PI\"].unique()\n",
    "PI_list"
   ]
  },
  {
   "cell_type": "code",
   "execution_count": 15,
   "metadata": {},
   "outputs": [],
   "source": [
    "df = df.drop(df.columns[df.columns.str.contains('unnamed',case = False)],axis = 1)"
   ]
  },
  {
   "cell_type": "code",
   "execution_count": 16,
   "metadata": {},
   "outputs": [],
   "source": [
    "# df.count()"
   ]
  },
  {
   "cell_type": "code",
   "execution_count": 17,
   "metadata": {},
   "outputs": [],
   "source": [
    "# df.dtypes"
   ]
  },
  {
   "cell_type": "code",
   "execution_count": 18,
   "metadata": {},
   "outputs": [],
   "source": [
    "df['Cost']=df['Cost'].replace('[\\$,]', '', regex=True).astype(float)\n",
    "# df.dtypes"
   ]
  },
  {
   "cell_type": "code",
   "execution_count": 19,
   "metadata": {},
   "outputs": [],
   "source": [
    "PI_list = ['njhillson@lbl.gov', 'jmgladden@lbl.gov', 'jheady@lbl.gov',\n",
    "       'jdkeasling@lbl.gov', 'hrbeller@lbl.gov', 'syuzawa@lbl.gov',\n",
    "       'amukhopadhyay@lbl.gov', 'hscheller@lbl.gov', 'pdadams@lbl.gov',\n",
    "       'ageudes@lbl.gov']\n",
    "\n",
    "njhillson_df = df[df[\"DIVA Project PI\"]==PI_list[0]]\n",
    "jmgladden_df = df[df[\"DIVA Project PI\"]==PI_list[1]]\n",
    "jheady_df = df[df[\"DIVA Project PI\"]==PI_list[2]]\n",
    "jdkeasling_df = df[df[\"DIVA Project PI\"]==PI_list[3]]\n",
    "hrbeller_df = df[df[\"DIVA Project PI\"]==PI_list[4]]\n",
    "syuzawa_df = df[df[\"DIVA Project PI\"]==PI_list[5]]\n",
    "amukhopadhyay_df = df[df[\"DIVA Project PI\"]==PI_list[6]]\n",
    "hscheller_df = df[df[\"DIVA Project PI\"]==PI_list[7]]\n",
    "pdadams_df = df[df[\"DIVA Project PI\"]==PI_list[8]]\n",
    "ageudes_df = df[df[\"DIVA Project PI\"]==PI_list[9]]\n",
    "\n",
    "\n"
   ]
  },
  {
   "cell_type": "markdown",
   "metadata": {},
   "source": [
    "DIVA Project PI: Nathan Hillson"
   ]
  },
  {
   "cell_type": "code",
   "execution_count": 20,
   "metadata": {},
   "outputs": [
    {
     "data": {
      "text/html": [
       "<div>\n",
       "<style scoped>\n",
       "    .dataframe tbody tr th:only-of-type {\n",
       "        vertical-align: middle;\n",
       "    }\n",
       "\n",
       "    .dataframe tbody tr th {\n",
       "        vertical-align: top;\n",
       "    }\n",
       "\n",
       "    .dataframe thead th {\n",
       "        text-align: right;\n",
       "    }\n",
       "</style>\n",
       "<table border=\"1\" class=\"dataframe\">\n",
       "  <thead>\n",
       "    <tr style=\"text-align: right;\">\n",
       "      <th></th>\n",
       "      <th>Cost</th>\n",
       "      <th>Hours</th>\n",
       "    </tr>\n",
       "    <tr>\n",
       "      <th>Project ID-Activity Code</th>\n",
       "      <th></th>\n",
       "      <th></th>\n",
       "    </tr>\n",
       "  </thead>\n",
       "  <tbody>\n",
       "    <tr>\n",
       "      <th>103832-002</th>\n",
       "      <td>192.00</td>\n",
       "      <td>5.08</td>\n",
       "    </tr>\n",
       "    <tr>\n",
       "      <th>105129-001</th>\n",
       "      <td>10116.52</td>\n",
       "      <td>82.67</td>\n",
       "    </tr>\n",
       "    <tr>\n",
       "      <th>105349-001</th>\n",
       "      <td>957.50</td>\n",
       "      <td>0.00</td>\n",
       "    </tr>\n",
       "  </tbody>\n",
       "</table>\n",
       "</div>"
      ],
      "text/plain": [
       "                              Cost  Hours\n",
       "Project ID-Activity Code                 \n",
       "103832-002                  192.00   5.08\n",
       "105129-001                10116.52  82.67\n",
       "105349-001                  957.50   0.00"
      ]
     },
     "execution_count": 20,
     "metadata": {},
     "output_type": "execute_result"
    },
    {
     "data": {
      "image/png": "[encoded data removed]",
      "text/plain": [
       "<matplotlib.figure.Figure at 0x11c0989b0>"
      ]
     },
     "metadata": {},
     "output_type": "display_data"
    }
   ],
   "source": [
    "njhillson_df_pro = njhillson_df.groupby([\"Project ID-Activity Code\"]).sum().drop(columns=['Number Rn/Construct/Sample'])\n",
    "njhillson_df_pro.plot(kind='bar')\n",
    "njhillson_df_pro\n"
   ]
  },
  {
   "cell_type": "code",
   "execution_count": 21,
   "metadata": {},
   "outputs": [
    {
     "data": {
      "text/html": [
       "<div>\n",
       "<style scoped>\n",
       "    .dataframe tbody tr th:only-of-type {\n",
       "        vertical-align: middle;\n",
       "    }\n",
       "\n",
       "    .dataframe tbody tr th {\n",
       "        vertical-align: top;\n",
       "    }\n",
       "\n",
       "    .dataframe thead th {\n",
       "        text-align: right;\n",
       "    }\n",
       "</style>\n",
       "<table border=\"1\" class=\"dataframe\">\n",
       "  <thead>\n",
       "    <tr style=\"text-align: right;\">\n",
       "      <th></th>\n",
       "      <th>DIVA User</th>\n",
       "      <th>DIVA Service</th>\n",
       "      <th>Number Rn/Construct/Sample</th>\n",
       "    </tr>\n",
       "  </thead>\n",
       "  <tbody>\n",
       "    <tr>\n",
       "      <th>0</th>\n",
       "      <td>ggoyal@lbl.gov</td>\n",
       "      <td>DNA seq</td>\n",
       "      <td>726</td>\n",
       "    </tr>\n",
       "    <tr>\n",
       "      <th>1</th>\n",
       "      <td>ggoyal@lbl.gov</td>\n",
       "      <td>Full DNA construction</td>\n",
       "      <td>24</td>\n",
       "    </tr>\n",
       "    <tr>\n",
       "      <th>2</th>\n",
       "      <td>jlchiniquy@lbl.gov</td>\n",
       "      <td>DNA seq</td>\n",
       "      <td>24</td>\n",
       "    </tr>\n",
       "  </tbody>\n",
       "</table>\n",
       "</div>"
      ],
      "text/plain": [
       "           DIVA User            DIVA Service  Number Rn/Construct/Sample\n",
       "0      ggoyal@lbl.gov               DNA seq                          726\n",
       "1      ggoyal@lbl.gov  Full DNA construction                          24\n",
       "2  jlchiniquy@lbl.gov               DNA seq                           24"
      ]
     },
     "execution_count": 21,
     "metadata": {},
     "output_type": "execute_result"
    },
    {
     "data": {
      "image/png": "[encoded data removed]",
      "text/plain": [
       "<matplotlib.figure.Figure at 0x11cb46b70>"
      ]
     },
     "metadata": {},
     "output_type": "display_data"
    }
   ],
   "source": [
    "njhillson_df_user = njhillson_df.groupby([\"DIVA User \",\"DIVA Service\"]).sum()\n",
    "njhillson_df_user = njhillson_df_user.drop(columns=[\"Cost\",\"Hours\"])\n",
    "njhillson_df_user= njhillson_df_user.reset_index()\n",
    "njhillson_df_user.pivot(index='DIVA User ',values='Number Rn/Construct/Sample',columns='DIVA Service').plot(kind='bar',stacked=True,figsize=(10,4))\n",
    "plt.ylabel(\"Number Rn/Construct/Sample\")\n",
    "plt.title(\"DIVA User_Service Usage\")\n",
    "plt.xticks(rotation=45)\n",
    "\n",
    "njhillson_df_user\n"
   ]
  },
  {
   "cell_type": "markdown",
   "metadata": {},
   "source": [
    "DIVA Project PI: John Gladden"
   ]
  },
  {
   "cell_type": "code",
   "execution_count": 22,
   "metadata": {},
   "outputs": [
    {
     "data": {
      "text/html": [
       "<div>\n",
       "<style scoped>\n",
       "    .dataframe tbody tr th:only-of-type {\n",
       "        vertical-align: middle;\n",
       "    }\n",
       "\n",
       "    .dataframe tbody tr th {\n",
       "        vertical-align: top;\n",
       "    }\n",
       "\n",
       "    .dataframe thead th {\n",
       "        text-align: right;\n",
       "    }\n",
       "</style>\n",
       "<table border=\"1\" class=\"dataframe\">\n",
       "  <thead>\n",
       "    <tr style=\"text-align: right;\">\n",
       "      <th></th>\n",
       "      <th>Cost</th>\n",
       "      <th>Hours</th>\n",
       "    </tr>\n",
       "    <tr>\n",
       "      <th>Project ID-Activity Code</th>\n",
       "      <th></th>\n",
       "      <th></th>\n",
       "    </tr>\n",
       "  </thead>\n",
       "  <tbody>\n",
       "    <tr>\n",
       "      <th>100822-008</th>\n",
       "      <td>906.76</td>\n",
       "      <td>10.89</td>\n",
       "    </tr>\n",
       "    <tr>\n",
       "      <th>103832-002</th>\n",
       "      <td>737.20</td>\n",
       "      <td>8.04</td>\n",
       "    </tr>\n",
       "    <tr>\n",
       "      <th>103832-005</th>\n",
       "      <td>931.13</td>\n",
       "      <td>40.00</td>\n",
       "    </tr>\n",
       "  </tbody>\n",
       "</table>\n",
       "</div>"
      ],
      "text/plain": [
       "                            Cost  Hours\n",
       "Project ID-Activity Code               \n",
       "100822-008                906.76  10.89\n",
       "103832-002                737.20   8.04\n",
       "103832-005                931.13  40.00"
      ]
     },
     "execution_count": 22,
     "metadata": {},
     "output_type": "execute_result"
    },
    {
     "data": {
      "image/png": "[encoded data removed]",
      "text/plain": [
       "<matplotlib.figure.Figure at 0x11c8359e8>"
      ]
     },
     "metadata": {},
     "output_type": "display_data"
    }
   ],
   "source": [
    "jmgladden_df_pro = jmgladden_df.groupby([\"Project ID-Activity Code\"]).sum().drop(columns=['Number Rn/Construct/Sample'])\n",
    "jmgladden_df_pro.plot(kind='bar')\n",
    "jmgladden_df_pro\n",
    "\n"
   ]
  },
  {
   "cell_type": "code",
   "execution_count": 23,
   "metadata": {},
   "outputs": [
    {
     "data": {
      "text/html": [
       "<div>\n",
       "<style scoped>\n",
       "    .dataframe tbody tr th:only-of-type {\n",
       "        vertical-align: middle;\n",
       "    }\n",
       "\n",
       "    .dataframe tbody tr th {\n",
       "        vertical-align: top;\n",
       "    }\n",
       "\n",
       "    .dataframe thead th {\n",
       "        text-align: right;\n",
       "    }\n",
       "</style>\n",
       "<table border=\"1\" class=\"dataframe\">\n",
       "  <thead>\n",
       "    <tr style=\"text-align: right;\">\n",
       "      <th></th>\n",
       "      <th>DIVA User</th>\n",
       "      <th>DIVA Service</th>\n",
       "      <th>Number Rn/Construct/Sample</th>\n",
       "    </tr>\n",
       "  </thead>\n",
       "  <tbody>\n",
       "    <tr>\n",
       "      <th>0</th>\n",
       "      <td>jkirby@lbl.gov</td>\n",
       "      <td>DNA seq</td>\n",
       "      <td>38</td>\n",
       "    </tr>\n",
       "    <tr>\n",
       "      <th>1</th>\n",
       "      <td>jmeadows@lbl.gov</td>\n",
       "      <td>DNA seq</td>\n",
       "      <td>11</td>\n",
       "    </tr>\n",
       "    <tr>\n",
       "      <th>2</th>\n",
       "      <td>stcoradetti@lbl.gov</td>\n",
       "      <td>DNA seq</td>\n",
       "      <td>42</td>\n",
       "    </tr>\n",
       "    <tr>\n",
       "      <th>3</th>\n",
       "      <td>stcoradetti@lbl.gov</td>\n",
       "      <td>Full DNA construction</td>\n",
       "      <td>10</td>\n",
       "    </tr>\n",
       "  </tbody>\n",
       "</table>\n",
       "</div>"
      ],
      "text/plain": [
       "            DIVA User            DIVA Service  Number Rn/Construct/Sample\n",
       "0       jkirby@lbl.gov               DNA seq                           38\n",
       "1     jmeadows@lbl.gov               DNA seq                           11\n",
       "2  stcoradetti@lbl.gov               DNA seq                           42\n",
       "3  stcoradetti@lbl.gov  Full DNA construction                          10"
      ]
     },
     "execution_count": 23,
     "metadata": {},
     "output_type": "execute_result"
    },
    {
     "data": {
      "image/png": "[encoded data removed]",
      "text/plain": [
       "<matplotlib.figure.Figure at 0x11cecb080>"
      ]
     },
     "metadata": {},
     "output_type": "display_data"
    }
   ],
   "source": [
    "jmgladden_df_user = jmgladden_df.groupby([\"DIVA User \",\"DIVA Service\"]).sum()\n",
    "jmgladden_df_user = jmgladden_df_user.drop(columns=[\"Cost\",\"Hours\"])\n",
    "jmgladden_df_user= jmgladden_df_user.reset_index()\n",
    "jmgladden_df_user.pivot(index='DIVA User ',values='Number Rn/Construct/Sample',columns='DIVA Service').plot(kind='bar',stacked=True,figsize=(10,4))\n",
    "plt.ylabel(\"Number Rn/Construct/Sample\")\n",
    "plt.title(\"DIVA User_Service Usage\")\n",
    "plt.xticks(rotation=45)\n",
    "\n",
    "jmgladden_df_user"
   ]
  },
  {
   "cell_type": "markdown",
   "metadata": {},
   "source": [
    "DIVA Project PI: Justin Heady"
   ]
  },
  {
   "cell_type": "code",
   "execution_count": 24,
   "metadata": {},
   "outputs": [],
   "source": [
    "# jheady_df_pro = jheady_df.groupby([\"Project ID-Activity Code\"]).sum().drop(columns=['Number Rn/Construct/Sample'])\n",
    "# jheady_df_pro.plot(kind='bar')\n",
    "# jheady_df_pro"
   ]
  },
  {
   "cell_type": "code",
   "execution_count": 25,
   "metadata": {},
   "outputs": [],
   "source": [
    "# jheady_df_user = jheady_df.groupby([\"DIVA User \",\"DIVA Service\"]).sum()\n",
    "# jheady_df_user = jheady_df_user.drop(columns=[\"Cost\",\"Hours\"])\n",
    "# jheady_df_user= jheady_df_user.reset_index()\n",
    "# jheady_df_user.pivot(index='DIVA User ',values='Number Rn/Construct/Sample',columns='DIVA Service').plot(kind='bar',stacked=True,figsize=(10,4))\n",
    "# plt.ylabel(\"Number Rn/Construct/Sample\")\n",
    "# plt.title(\"DIVA User_Service Usage\")\n",
    "# plt.xticks(rotation=45)\n",
    "\n",
    "# jheady_df_user"
   ]
  },
  {
   "cell_type": "markdown",
   "metadata": {},
   "source": [
    "DIVA Project PI: Jay Keasling"
   ]
  },
  {
   "cell_type": "code",
   "execution_count": 26,
   "metadata": {},
   "outputs": [
    {
     "data": {
      "text/html": [
       "<div>\n",
       "<style scoped>\n",
       "    .dataframe tbody tr th:only-of-type {\n",
       "        vertical-align: middle;\n",
       "    }\n",
       "\n",
       "    .dataframe tbody tr th {\n",
       "        vertical-align: top;\n",
       "    }\n",
       "\n",
       "    .dataframe thead th {\n",
       "        text-align: right;\n",
       "    }\n",
       "</style>\n",
       "<table border=\"1\" class=\"dataframe\">\n",
       "  <thead>\n",
       "    <tr style=\"text-align: right;\">\n",
       "      <th></th>\n",
       "      <th>Cost</th>\n",
       "      <th>Hours</th>\n",
       "    </tr>\n",
       "    <tr>\n",
       "      <th>Project ID-Activity Code</th>\n",
       "      <th></th>\n",
       "      <th></th>\n",
       "    </tr>\n",
       "  </thead>\n",
       "  <tbody>\n",
       "    <tr>\n",
       "      <th>100822-042</th>\n",
       "      <td>1306.71</td>\n",
       "      <td>14.5</td>\n",
       "    </tr>\n",
       "  </tbody>\n",
       "</table>\n",
       "</div>"
      ],
      "text/plain": [
       "                             Cost  Hours\n",
       "Project ID-Activity Code                \n",
       "100822-042                1306.71   14.5"
      ]
     },
     "execution_count": 26,
     "metadata": {},
     "output_type": "execute_result"
    },
    {
     "data": {
      "image/png": "[encoded data removed]",
      "text/plain": [
       "<matplotlib.figure.Figure at 0x11c77c5f8>"
      ]
     },
     "metadata": {},
     "output_type": "display_data"
    }
   ],
   "source": [
    "jdkeasling_df_pro = jdkeasling_df.groupby([\"Project ID-Activity Code\"]).sum().drop(columns=['Number Rn/Construct/Sample'])\n",
    "jdkeasling_df_pro.plot(kind='bar')\n",
    "jdkeasling_df_pro"
   ]
  },
  {
   "cell_type": "code",
   "execution_count": 27,
   "metadata": {},
   "outputs": [
    {
     "data": {
      "text/html": [
       "<div>\n",
       "<style scoped>\n",
       "    .dataframe tbody tr th:only-of-type {\n",
       "        vertical-align: middle;\n",
       "    }\n",
       "\n",
       "    .dataframe tbody tr th {\n",
       "        vertical-align: top;\n",
       "    }\n",
       "\n",
       "    .dataframe thead th {\n",
       "        text-align: right;\n",
       "    }\n",
       "</style>\n",
       "<table border=\"1\" class=\"dataframe\">\n",
       "  <thead>\n",
       "    <tr style=\"text-align: right;\">\n",
       "      <th></th>\n",
       "      <th>DIVA User</th>\n",
       "      <th>DIVA Service</th>\n",
       "      <th>Number Rn/Construct/Sample</th>\n",
       "    </tr>\n",
       "  </thead>\n",
       "  <tbody>\n",
       "    <tr>\n",
       "      <th>0</th>\n",
       "      <td>spalluk@lbl.gov</td>\n",
       "      <td>DNA seq</td>\n",
       "      <td>146</td>\n",
       "    </tr>\n",
       "  </tbody>\n",
       "</table>\n",
       "</div>"
      ],
      "text/plain": [
       "        DIVA User  DIVA Service  Number Rn/Construct/Sample\n",
       "0  spalluk@lbl.gov     DNA seq                          146"
      ]
     },
     "execution_count": 27,
     "metadata": {},
     "output_type": "execute_result"
    },
    {
     "data": {
      "image/png": "[encoded data removed]",
      "text/plain": [
       "<matplotlib.figure.Figure at 0x11cfdccc0>"
      ]
     },
     "metadata": {},
     "output_type": "display_data"
    }
   ],
   "source": [
    "jdkeasling_df_user = jdkeasling_df.groupby([\"DIVA User \",\"DIVA Service\"]).sum()\n",
    "jdkeasling_df_user = jdkeasling_df_user.drop(columns=[\"Cost\",\"Hours\"])\n",
    "jdkeasling_df_user= jdkeasling_df_user.reset_index()\n",
    "jdkeasling_df_user.pivot(index='DIVA User ',values='Number Rn/Construct/Sample',columns='DIVA Service').plot(kind='bar',stacked=True,figsize=(10,4))\n",
    "plt.ylabel(\"Number Rn/Construct/Sample\")\n",
    "plt.title(\"DIVA User_Service Usage\")\n",
    "plt.xticks(rotation=45)\n",
    "\n",
    "jdkeasling_df_user"
   ]
  },
  {
   "cell_type": "markdown",
   "metadata": {},
   "source": [
    "DIVA Project ID: Harry Beller"
   ]
  },
  {
   "cell_type": "code",
   "execution_count": 28,
   "metadata": {},
   "outputs": [
    {
     "data": {
      "text/html": [
       "<div>\n",
       "<style scoped>\n",
       "    .dataframe tbody tr th:only-of-type {\n",
       "        vertical-align: middle;\n",
       "    }\n",
       "\n",
       "    .dataframe tbody tr th {\n",
       "        vertical-align: top;\n",
       "    }\n",
       "\n",
       "    .dataframe thead th {\n",
       "        text-align: right;\n",
       "    }\n",
       "</style>\n",
       "<table border=\"1\" class=\"dataframe\">\n",
       "  <thead>\n",
       "    <tr style=\"text-align: right;\">\n",
       "      <th></th>\n",
       "      <th>Cost</th>\n",
       "      <th>Hours</th>\n",
       "    </tr>\n",
       "    <tr>\n",
       "      <th>Project ID-Activity Code</th>\n",
       "      <th></th>\n",
       "      <th></th>\n",
       "    </tr>\n",
       "  </thead>\n",
       "  <tbody>\n",
       "    <tr>\n",
       "      <th>100822-018</th>\n",
       "      <td>220.32</td>\n",
       "      <td>5.81</td>\n",
       "    </tr>\n",
       "    <tr>\n",
       "      <th>105129-001</th>\n",
       "      <td>1074.24</td>\n",
       "      <td>25.58</td>\n",
       "    </tr>\n",
       "  </tbody>\n",
       "</table>\n",
       "</div>"
      ],
      "text/plain": [
       "                             Cost  Hours\n",
       "Project ID-Activity Code                \n",
       "100822-018                 220.32   5.81\n",
       "105129-001                1074.24  25.58"
      ]
     },
     "execution_count": 28,
     "metadata": {},
     "output_type": "execute_result"
    },
    {
     "data": {
      "image/png": "[encoded data removed]",
      "text/plain": [
       "<matplotlib.figure.Figure at 0x11cff59b0>"
      ]
     },
     "metadata": {},
     "output_type": "display_data"
    }
   ],
   "source": [
    "hrbeller_df_pro = hrbeller_df.groupby([\"Project ID-Activity Code\"]).sum().drop(columns=['Number Rn/Construct/Sample'])\n",
    "hrbeller_df_pro.plot(kind='bar')\n",
    "hrbeller_df_pro\n"
   ]
  },
  {
   "cell_type": "code",
   "execution_count": 29,
   "metadata": {},
   "outputs": [
    {
     "data": {
      "text/html": [
       "<div>\n",
       "<style scoped>\n",
       "    .dataframe tbody tr th:only-of-type {\n",
       "        vertical-align: middle;\n",
       "    }\n",
       "\n",
       "    .dataframe tbody tr th {\n",
       "        vertical-align: top;\n",
       "    }\n",
       "\n",
       "    .dataframe thead th {\n",
       "        text-align: right;\n",
       "    }\n",
       "</style>\n",
       "<table border=\"1\" class=\"dataframe\">\n",
       "  <thead>\n",
       "    <tr style=\"text-align: right;\">\n",
       "      <th></th>\n",
       "      <th>DIVA User</th>\n",
       "      <th>DIVA Service</th>\n",
       "      <th>Number Rn/Construct/Sample</th>\n",
       "    </tr>\n",
       "  </thead>\n",
       "  <tbody>\n",
       "    <tr>\n",
       "      <th>0</th>\n",
       "      <td>avrodrigues@lbl.gov</td>\n",
       "      <td>DNA seq</td>\n",
       "      <td>27</td>\n",
       "    </tr>\n",
       "    <tr>\n",
       "      <th>1</th>\n",
       "      <td>paulopgenorth@lbl.gov</td>\n",
       "      <td>DNA seq</td>\n",
       "      <td>21</td>\n",
       "    </tr>\n",
       "    <tr>\n",
       "      <th>2</th>\n",
       "      <td>tokada@lbl.gov</td>\n",
       "      <td>DNA seq</td>\n",
       "      <td>99</td>\n",
       "    </tr>\n",
       "  </tbody>\n",
       "</table>\n",
       "</div>"
      ],
      "text/plain": [
       "              DIVA User  DIVA Service  Number Rn/Construct/Sample\n",
       "0    avrodrigues@lbl.gov     DNA seq                           27\n",
       "1  paulopgenorth@lbl.gov     DNA seq                           21\n",
       "2         tokada@lbl.gov     DNA seq                           99"
      ]
     },
     "execution_count": 29,
     "metadata": {},
     "output_type": "execute_result"
    },
    {
     "data": {
      "image/png": "[encoded data removed]",
      "text/plain": [
       "<matplotlib.figure.Figure at 0x11d10a4a8>"
      ]
     },
     "metadata": {},
     "output_type": "display_data"
    }
   ],
   "source": [
    "hrbeller_df_user = hrbeller_df.groupby([\"DIVA User \",\"DIVA Service\"]).sum()\n",
    "hrbeller_df_user = hrbeller_df_user.drop(columns=[\"Cost\",\"Hours\"])\n",
    "hrbeller_df_user= hrbeller_df_user.reset_index()\n",
    "hrbeller_df_user.pivot(index='DIVA User ',values='Number Rn/Construct/Sample',columns='DIVA Service').plot(kind='bar',stacked=True,figsize=(10,4))\n",
    "plt.ylabel(\"Number Rn/Construct/Sample\")\n",
    "plt.title(\"DIVA User_Service Usage\")\n",
    "plt.xticks(rotation=45)\n",
    "\n",
    "hrbeller_df_user"
   ]
  },
  {
   "cell_type": "markdown",
   "metadata": {},
   "source": [
    "DIVA Project ID: Satoshi Yuzawa"
   ]
  },
  {
   "cell_type": "code",
   "execution_count": 30,
   "metadata": {},
   "outputs": [
    {
     "data": {
      "text/html": [
       "<div>\n",
       "<style scoped>\n",
       "    .dataframe tbody tr th:only-of-type {\n",
       "        vertical-align: middle;\n",
       "    }\n",
       "\n",
       "    .dataframe tbody tr th {\n",
       "        vertical-align: top;\n",
       "    }\n",
       "\n",
       "    .dataframe thead th {\n",
       "        text-align: right;\n",
       "    }\n",
       "</style>\n",
       "<table border=\"1\" class=\"dataframe\">\n",
       "  <thead>\n",
       "    <tr style=\"text-align: right;\">\n",
       "      <th></th>\n",
       "      <th>Cost</th>\n",
       "      <th>Hours</th>\n",
       "    </tr>\n",
       "    <tr>\n",
       "      <th>Project ID-Activity Code</th>\n",
       "      <th></th>\n",
       "      <th></th>\n",
       "    </tr>\n",
       "  </thead>\n",
       "  <tbody>\n",
       "    <tr>\n",
       "      <th>100822-001</th>\n",
       "      <td>41.80</td>\n",
       "      <td>1.10</td>\n",
       "    </tr>\n",
       "    <tr>\n",
       "      <th>100822-023</th>\n",
       "      <td>200.64</td>\n",
       "      <td>1.56</td>\n",
       "    </tr>\n",
       "    <tr>\n",
       "      <th>100822-042</th>\n",
       "      <td>11201.38</td>\n",
       "      <td>147.68</td>\n",
       "    </tr>\n",
       "    <tr>\n",
       "      <th>103768-001</th>\n",
       "      <td>611.80</td>\n",
       "      <td>10.65</td>\n",
       "    </tr>\n",
       "  </tbody>\n",
       "</table>\n",
       "</div>"
      ],
      "text/plain": [
       "                              Cost   Hours\n",
       "Project ID-Activity Code                  \n",
       "100822-001                   41.80    1.10\n",
       "100822-023                  200.64    1.56\n",
       "100822-042                11201.38  147.68\n",
       "103768-001                  611.80   10.65"
      ]
     },
     "execution_count": 30,
     "metadata": {},
     "output_type": "execute_result"
    },
    {
     "data": {
      "image/png": "[encoded data removed]",
      "text/plain": [
       "<matplotlib.figure.Figure at 0x11cff5358>"
      ]
     },
     "metadata": {},
     "output_type": "display_data"
    }
   ],
   "source": [
    "syuzawa_df_pro = syuzawa_df.groupby([\"Project ID-Activity Code\"]).sum().drop(columns=['Number Rn/Construct/Sample'])\n",
    "syuzawa_df_pro.plot(kind='bar')\n",
    "syuzawa_df_pro\n"
   ]
  },
  {
   "cell_type": "code",
   "execution_count": 31,
   "metadata": {},
   "outputs": [
    {
     "data": {
      "text/html": [
       "<div>\n",
       "<style scoped>\n",
       "    .dataframe tbody tr th:only-of-type {\n",
       "        vertical-align: middle;\n",
       "    }\n",
       "\n",
       "    .dataframe tbody tr th {\n",
       "        vertical-align: top;\n",
       "    }\n",
       "\n",
       "    .dataframe thead th {\n",
       "        text-align: right;\n",
       "    }\n",
       "</style>\n",
       "<table border=\"1\" class=\"dataframe\">\n",
       "  <thead>\n",
       "    <tr style=\"text-align: right;\">\n",
       "      <th></th>\n",
       "      <th>DIVA User</th>\n",
       "      <th>DIVA Service</th>\n",
       "      <th>Number Rn/Construct/Sample</th>\n",
       "    </tr>\n",
       "  </thead>\n",
       "  <tbody>\n",
       "    <tr>\n",
       "      <th>0</th>\n",
       "      <td>azargar@lbl.gov</td>\n",
       "      <td>DNA seq</td>\n",
       "      <td>43</td>\n",
       "    </tr>\n",
       "    <tr>\n",
       "      <th>1</th>\n",
       "      <td>bopang@lbl.gov</td>\n",
       "      <td>DNA seq</td>\n",
       "      <td>2</td>\n",
       "    </tr>\n",
       "    <tr>\n",
       "      <th>2</th>\n",
       "      <td>ceiben@lbl.gov</td>\n",
       "      <td>DNA seq</td>\n",
       "      <td>35</td>\n",
       "    </tr>\n",
       "    <tr>\n",
       "      <th>3</th>\n",
       "      <td>ceiben@lbl.gov</td>\n",
       "      <td>PCR only</td>\n",
       "      <td>133</td>\n",
       "    </tr>\n",
       "    <tr>\n",
       "      <th>4</th>\n",
       "      <td>dongliu2@lbl.gov</td>\n",
       "      <td>DNA seq</td>\n",
       "      <td>6</td>\n",
       "    </tr>\n",
       "    <tr>\n",
       "      <th>5</th>\n",
       "      <td>dongliu2@lbl.gov</td>\n",
       "      <td>PCR only</td>\n",
       "      <td>5</td>\n",
       "    </tr>\n",
       "    <tr>\n",
       "      <th>6</th>\n",
       "      <td>jblakehedges@lbl.gov</td>\n",
       "      <td>DNA seq</td>\n",
       "      <td>58</td>\n",
       "    </tr>\n",
       "    <tr>\n",
       "      <th>7</th>\n",
       "      <td>jblakehedges@lbl.gov</td>\n",
       "      <td>Full DNA construction</td>\n",
       "      <td>52</td>\n",
       "    </tr>\n",
       "    <tr>\n",
       "      <th>8</th>\n",
       "      <td>mthompson@lbl.gov</td>\n",
       "      <td>DNA seq</td>\n",
       "      <td>2</td>\n",
       "    </tr>\n",
       "    <tr>\n",
       "      <th>9</th>\n",
       "      <td>mthompson@lbl.gov</td>\n",
       "      <td>PCR only</td>\n",
       "      <td>18</td>\n",
       "    </tr>\n",
       "    <tr>\n",
       "      <th>10</th>\n",
       "      <td>pcruzmorales@lbl.gov</td>\n",
       "      <td>PCR only</td>\n",
       "      <td>37</td>\n",
       "    </tr>\n",
       "  </tbody>\n",
       "</table>\n",
       "</div>"
      ],
      "text/plain": [
       "              DIVA User            DIVA Service  Number Rn/Construct/Sample\n",
       "0        azargar@lbl.gov               DNA seq                           43\n",
       "1         bopang@lbl.gov               DNA seq                            2\n",
       "2         ceiben@lbl.gov               DNA seq                           35\n",
       "3         ceiben@lbl.gov               PCR only                         133\n",
       "4       dongliu2@lbl.gov               DNA seq                            6\n",
       "5       dongliu2@lbl.gov               PCR only                           5\n",
       "6   jblakehedges@lbl.gov               DNA seq                           58\n",
       "7   jblakehedges@lbl.gov  Full DNA construction                          52\n",
       "8      mthompson@lbl.gov               DNA seq                            2\n",
       "9      mthompson@lbl.gov               PCR only                          18\n",
       "10  pcruzmorales@lbl.gov               PCR only                          37"
      ]
     },
     "execution_count": 31,
     "metadata": {},
     "output_type": "execute_result"
    },
    {
     "data": {
      "image/png": "[encoded data removed]",
      "text/plain": [
       "<matplotlib.figure.Figure at 0x11cffb080>"
      ]
     },
     "metadata": {},
     "output_type": "display_data"
    }
   ],
   "source": [
    "syuzawa_df_user = syuzawa_df.groupby([\"DIVA User \",\"DIVA Service\"]).sum()\n",
    "syuzawa_df_user = syuzawa_df_user.drop(columns=[\"Cost\",\"Hours\"])\n",
    "syuzawa_df_user= syuzawa_df_user.reset_index()\n",
    "syuzawa_df_user.pivot(index='DIVA User ',values='Number Rn/Construct/Sample',columns='DIVA Service').plot(kind='bar',stacked=True,figsize=(10,4))\n",
    "plt.ylabel(\"Number Rn/Construct/Sample\")\n",
    "plt.title(\"DIVA User_Service Usage\")\n",
    "plt.xticks(rotation=45)\n",
    "\n",
    "syuzawa_df_user"
   ]
  },
  {
   "cell_type": "markdown",
   "metadata": {},
   "source": [
    "DIVA Project ID: Aindrila Mukhopadhyay\n"
   ]
  },
  {
   "cell_type": "code",
   "execution_count": 32,
   "metadata": {},
   "outputs": [
    {
     "data": {
      "text/html": [
       "<div>\n",
       "<style scoped>\n",
       "    .dataframe tbody tr th:only-of-type {\n",
       "        vertical-align: middle;\n",
       "    }\n",
       "\n",
       "    .dataframe tbody tr th {\n",
       "        vertical-align: top;\n",
       "    }\n",
       "\n",
       "    .dataframe thead th {\n",
       "        text-align: right;\n",
       "    }\n",
       "</style>\n",
       "<table border=\"1\" class=\"dataframe\">\n",
       "  <thead>\n",
       "    <tr style=\"text-align: right;\">\n",
       "      <th></th>\n",
       "      <th>Cost</th>\n",
       "      <th>Hours</th>\n",
       "    </tr>\n",
       "    <tr>\n",
       "      <th>Project ID-Activity Code</th>\n",
       "      <th></th>\n",
       "      <th></th>\n",
       "    </tr>\n",
       "  </thead>\n",
       "  <tbody>\n",
       "    <tr>\n",
       "      <th>100822-020</th>\n",
       "      <td>136.6</td>\n",
       "      <td>12.00</td>\n",
       "    </tr>\n",
       "    <tr>\n",
       "      <th>101544-035</th>\n",
       "      <td>250.8</td>\n",
       "      <td>2.89</td>\n",
       "    </tr>\n",
       "  </tbody>\n",
       "</table>\n",
       "</div>"
      ],
      "text/plain": [
       "                           Cost  Hours\n",
       "Project ID-Activity Code              \n",
       "100822-020                136.6  12.00\n",
       "101544-035                250.8   2.89"
      ]
     },
     "execution_count": 32,
     "metadata": {},
     "output_type": "execute_result"
    },
    {
     "data": {
      "image/png": "[encoded data removed]",
      "text/plain": [
       "<matplotlib.figure.Figure at 0x11c1370f0>"
      ]
     },
     "metadata": {},
     "output_type": "display_data"
    }
   ],
   "source": [
    "amukhopadhyay_df_pro = amukhopadhyay_df.groupby([\"Project ID-Activity Code\"]).sum().drop(columns=['Number Rn/Construct/Sample'])\n",
    "amukhopadhyay_df_pro.plot(kind='bar')\n",
    "amukhopadhyay_df_pro\n"
   ]
  },
  {
   "cell_type": "code",
   "execution_count": 33,
   "metadata": {},
   "outputs": [
    {
     "data": {
      "text/html": [
       "<div>\n",
       "<style scoped>\n",
       "    .dataframe tbody tr th:only-of-type {\n",
       "        vertical-align: middle;\n",
       "    }\n",
       "\n",
       "    .dataframe tbody tr th {\n",
       "        vertical-align: top;\n",
       "    }\n",
       "\n",
       "    .dataframe thead th {\n",
       "        text-align: right;\n",
       "    }\n",
       "</style>\n",
       "<table border=\"1\" class=\"dataframe\">\n",
       "  <thead>\n",
       "    <tr style=\"text-align: right;\">\n",
       "      <th></th>\n",
       "      <th>DIVA User</th>\n",
       "      <th>DIVA Service</th>\n",
       "      <th>Number Rn/Construct/Sample</th>\n",
       "    </tr>\n",
       "  </thead>\n",
       "  <tbody>\n",
       "    <tr>\n",
       "      <th>0</th>\n",
       "      <td>akothari@lbl.gov</td>\n",
       "      <td>DNA seq</td>\n",
       "      <td>30</td>\n",
       "    </tr>\n",
       "    <tr>\n",
       "      <th>1</th>\n",
       "      <td>mwehrs@lbl.gov</td>\n",
       "      <td>PCR only</td>\n",
       "      <td>9</td>\n",
       "    </tr>\n",
       "  </tbody>\n",
       "</table>\n",
       "</div>"
      ],
      "text/plain": [
       "         DIVA User  DIVA Service  Number Rn/Construct/Sample\n",
       "0  akothari@lbl.gov     DNA seq                           30\n",
       "1    mwehrs@lbl.gov     PCR only                           9"
      ]
     },
     "execution_count": 33,
     "metadata": {},
     "output_type": "execute_result"
    },
    {
     "data": {
      "image/png": "[encoded data removed]",
      "text/plain": [
       "<matplotlib.figure.Figure at 0x11ce6f4e0>"
      ]
     },
     "metadata": {},
     "output_type": "display_data"
    }
   ],
   "source": [
    "amukhopadhyay_df_user = amukhopadhyay_df.groupby([\"DIVA User \",\"DIVA Service\"]).sum()\n",
    "amukhopadhyay_df_user = amukhopadhyay_df_user.drop(columns=[\"Cost\",\"Hours\"])\n",
    "amukhopadhyay_df_user= amukhopadhyay_df_user.reset_index()\n",
    "amukhopadhyay_df_user.pivot(index='DIVA User ',values='Number Rn/Construct/Sample',columns='DIVA Service').plot(kind='bar',stacked=True,figsize=(10,4))\n",
    "plt.ylabel(\"Number Rn/Construct/Sample\")\n",
    "plt.title(\"DIVA User_Service Usage\")\n",
    "plt.xticks(rotation=45)\n",
    "\n",
    "amukhopadhyay_df_user"
   ]
  },
  {
   "cell_type": "markdown",
   "metadata": {},
   "source": [
    "DIVA Project ID: Henrik Scheller\n"
   ]
  },
  {
   "cell_type": "code",
   "execution_count": 34,
   "metadata": {},
   "outputs": [
    {
     "data": {
      "text/html": [
       "<div>\n",
       "<style scoped>\n",
       "    .dataframe tbody tr th:only-of-type {\n",
       "        vertical-align: middle;\n",
       "    }\n",
       "\n",
       "    .dataframe tbody tr th {\n",
       "        vertical-align: top;\n",
       "    }\n",
       "\n",
       "    .dataframe thead th {\n",
       "        text-align: right;\n",
       "    }\n",
       "</style>\n",
       "<table border=\"1\" class=\"dataframe\">\n",
       "  <thead>\n",
       "    <tr style=\"text-align: right;\">\n",
       "      <th></th>\n",
       "      <th>Cost</th>\n",
       "      <th>Hours</th>\n",
       "    </tr>\n",
       "    <tr>\n",
       "      <th>Project ID-Activity Code</th>\n",
       "      <th></th>\n",
       "      <th></th>\n",
       "    </tr>\n",
       "  </thead>\n",
       "  <tbody>\n",
       "    <tr>\n",
       "      <th>100822-013</th>\n",
       "      <td>363.52</td>\n",
       "      <td>5.16</td>\n",
       "    </tr>\n",
       "  </tbody>\n",
       "</table>\n",
       "</div>"
      ],
      "text/plain": [
       "                            Cost  Hours\n",
       "Project ID-Activity Code               \n",
       "100822-013                363.52   5.16"
      ]
     },
     "execution_count": 34,
     "metadata": {},
     "output_type": "execute_result"
    },
    {
     "data": {
      "image/png": "[encoded data removed]",
      "text/plain": [
       "<matplotlib.figure.Figure at 0x11ce6e978>"
      ]
     },
     "metadata": {},
     "output_type": "display_data"
    }
   ],
   "source": [
    "hscheller_df_pro = hscheller_df.groupby([\"Project ID-Activity Code\"]).sum().drop(columns=['Number Rn/Construct/Sample'])\n",
    "hscheller_df_pro.plot(kind='bar')\n",
    "hscheller_df_pro\n"
   ]
  },
  {
   "cell_type": "code",
   "execution_count": 35,
   "metadata": {},
   "outputs": [
    {
     "data": {
      "text/html": [
       "<div>\n",
       "<style scoped>\n",
       "    .dataframe tbody tr th:only-of-type {\n",
       "        vertical-align: middle;\n",
       "    }\n",
       "\n",
       "    .dataframe tbody tr th {\n",
       "        vertical-align: top;\n",
       "    }\n",
       "\n",
       "    .dataframe thead th {\n",
       "        text-align: right;\n",
       "    }\n",
       "</style>\n",
       "<table border=\"1\" class=\"dataframe\">\n",
       "  <thead>\n",
       "    <tr style=\"text-align: right;\">\n",
       "      <th></th>\n",
       "      <th>DIVA User</th>\n",
       "      <th>DIVA Service</th>\n",
       "      <th>Number Rn/Construct/Sample</th>\n",
       "    </tr>\n",
       "  </thead>\n",
       "  <tbody>\n",
       "    <tr>\n",
       "      <th>0</th>\n",
       "      <td>ageudes@lbl.gov</td>\n",
       "      <td>DNA seq</td>\n",
       "      <td>20</td>\n",
       "    </tr>\n",
       "    <tr>\n",
       "      <th>1</th>\n",
       "      <td>yliang@lbl.gov</td>\n",
       "      <td>DNA seq</td>\n",
       "      <td>24</td>\n",
       "    </tr>\n",
       "  </tbody>\n",
       "</table>\n",
       "</div>"
      ],
      "text/plain": [
       "        DIVA User  DIVA Service  Number Rn/Construct/Sample\n",
       "0  ageudes@lbl.gov     DNA seq                           20\n",
       "1   yliang@lbl.gov     DNA seq                           24"
      ]
     },
     "execution_count": 35,
     "metadata": {},
     "output_type": "execute_result"
    },
    {
     "data": {
      "image/png": "[encoded data removed]",
      "text/plain": [
       "<matplotlib.figure.Figure at 0x11d2de470>"
      ]
     },
     "metadata": {},
     "output_type": "display_data"
    }
   ],
   "source": [
    "hscheller_df_user = hscheller_df.groupby([\"DIVA User \",\"DIVA Service\"]).sum()\n",
    "hscheller_df_user = hscheller_df_user.drop(columns=[\"Cost\",\"Hours\"])\n",
    "hscheller_df_user= hscheller_df_user.reset_index()\n",
    "hscheller_df_user.pivot(index='DIVA User ',values='Number Rn/Construct/Sample',columns='DIVA Service').plot(kind='bar',stacked=True,figsize=(10,4))\n",
    "plt.ylabel(\"Number Rn/Construct/Sample\")\n",
    "plt.title(\"DIVA User_Service Usage\")\n",
    "plt.xticks(rotation=45)\n",
    "\n",
    "hscheller_df_user"
   ]
  },
  {
   "cell_type": "markdown",
   "metadata": {},
   "source": [
    "DIVA Project ID: Paul Adams"
   ]
  },
  {
   "cell_type": "code",
   "execution_count": 36,
   "metadata": {},
   "outputs": [
    {
     "data": {
      "text/html": [
       "<div>\n",
       "<style scoped>\n",
       "    .dataframe tbody tr th:only-of-type {\n",
       "        vertical-align: middle;\n",
       "    }\n",
       "\n",
       "    .dataframe tbody tr th {\n",
       "        vertical-align: top;\n",
       "    }\n",
       "\n",
       "    .dataframe thead th {\n",
       "        text-align: right;\n",
       "    }\n",
       "</style>\n",
       "<table border=\"1\" class=\"dataframe\">\n",
       "  <thead>\n",
       "    <tr style=\"text-align: right;\">\n",
       "      <th></th>\n",
       "      <th>Cost</th>\n",
       "      <th>Hours</th>\n",
       "    </tr>\n",
       "    <tr>\n",
       "      <th>Project ID-Activity Code</th>\n",
       "      <th></th>\n",
       "      <th></th>\n",
       "    </tr>\n",
       "  </thead>\n",
       "  <tbody>\n",
       "    <tr>\n",
       "      <th>100822-037</th>\n",
       "      <td>8.0</td>\n",
       "      <td>0.21</td>\n",
       "    </tr>\n",
       "  </tbody>\n",
       "</table>\n",
       "</div>"
      ],
      "text/plain": [
       "                          Cost  Hours\n",
       "Project ID-Activity Code             \n",
       "100822-037                 8.0   0.21"
      ]
     },
     "execution_count": 36,
     "metadata": {},
     "output_type": "execute_result"
    },
    {
     "data": {
      "image/png": "[encoded data removed]",
      "text/plain": [
       "<matplotlib.figure.Figure at 0x11d400ef0>"
      ]
     },
     "metadata": {},
     "output_type": "display_data"
    }
   ],
   "source": [
    "pdadams_df_pro = pdadams_df.groupby([\"Project ID-Activity Code\"]).sum().drop(columns=['Number Rn/Construct/Sample'])\n",
    "pdadams_df_pro.plot(kind='bar')\n",
    "pdadams_df_pro\n"
   ]
  },
  {
   "cell_type": "code",
   "execution_count": 37,
   "metadata": {},
   "outputs": [
    {
     "data": {
      "text/html": [
       "<div>\n",
       "<style scoped>\n",
       "    .dataframe tbody tr th:only-of-type {\n",
       "        vertical-align: middle;\n",
       "    }\n",
       "\n",
       "    .dataframe tbody tr th {\n",
       "        vertical-align: top;\n",
       "    }\n",
       "\n",
       "    .dataframe thead th {\n",
       "        text-align: right;\n",
       "    }\n",
       "</style>\n",
       "<table border=\"1\" class=\"dataframe\">\n",
       "  <thead>\n",
       "    <tr style=\"text-align: right;\">\n",
       "      <th></th>\n",
       "      <th>DIVA User</th>\n",
       "      <th>DIVA Service</th>\n",
       "      <th>Number Rn/Construct/Sample</th>\n",
       "    </tr>\n",
       "  </thead>\n",
       "  <tbody>\n",
       "    <tr>\n",
       "      <th>0</th>\n",
       "      <td>adegiovanni@lbl.gov</td>\n",
       "      <td>DNA seq</td>\n",
       "      <td>1</td>\n",
       "    </tr>\n",
       "  </tbody>\n",
       "</table>\n",
       "</div>"
      ],
      "text/plain": [
       "            DIVA User  DIVA Service  Number Rn/Construct/Sample\n",
       "0  adegiovanni@lbl.gov     DNA seq                            1"
      ]
     },
     "execution_count": 37,
     "metadata": {},
     "output_type": "execute_result"
    },
    {
     "data": {
      "image/png": "[encoded data removed]",
      "text/plain": [
       "<matplotlib.figure.Figure at 0x11d58f470>"
      ]
     },
     "metadata": {},
     "output_type": "display_data"
    }
   ],
   "source": [
    "pdadams_df_user = pdadams_df.groupby([\"DIVA User \",\"DIVA Service\"]).sum()\n",
    "pdadams_df_user = pdadams_df_user.drop(columns=[\"Cost\",\"Hours\"])\n",
    "pdadams_df_user= pdadams_df_user.reset_index()\n",
    "pdadams_df_user.pivot(index='DIVA User ',values='Number Rn/Construct/Sample',columns='DIVA Service').plot(kind='bar',stacked=True,figsize=(10,4))\n",
    "plt.ylabel(\"Number Rn/Construct/Sample\")\n",
    "plt.title(\"DIVA User_Service Usage\")\n",
    "plt.xticks(rotation=45)\n",
    "\n",
    "pdadams_df_user"
   ]
  },
  {
   "cell_type": "markdown",
   "metadata": {},
   "source": [
    "DIVA Project ID: Aymerick Eudes"
   ]
  },
  {
   "cell_type": "code",
   "execution_count": 38,
   "metadata": {},
   "outputs": [
    {
     "data": {
      "text/html": [
       "<div>\n",
       "<style scoped>\n",
       "    .dataframe tbody tr th:only-of-type {\n",
       "        vertical-align: middle;\n",
       "    }\n",
       "\n",
       "    .dataframe tbody tr th {\n",
       "        vertical-align: top;\n",
       "    }\n",
       "\n",
       "    .dataframe thead th {\n",
       "        text-align: right;\n",
       "    }\n",
       "</style>\n",
       "<table border=\"1\" class=\"dataframe\">\n",
       "  <thead>\n",
       "    <tr style=\"text-align: right;\">\n",
       "      <th></th>\n",
       "      <th>Cost</th>\n",
       "      <th>Hours</th>\n",
       "    </tr>\n",
       "    <tr>\n",
       "      <th>Project ID-Activity Code</th>\n",
       "      <th></th>\n",
       "      <th></th>\n",
       "    </tr>\n",
       "  </thead>\n",
       "  <tbody>\n",
       "    <tr>\n",
       "      <th>100822-013</th>\n",
       "      <td>261.39</td>\n",
       "      <td>2.25</td>\n",
       "    </tr>\n",
       "  </tbody>\n",
       "</table>\n",
       "</div>"
      ],
      "text/plain": [
       "                            Cost  Hours\n",
       "Project ID-Activity Code               \n",
       "100822-013                261.39   2.25"
      ]
     },
     "execution_count": 38,
     "metadata": {},
     "output_type": "execute_result"
    },
    {
     "data": {
      "image/png": "[encoded data removed]",
      "text/plain": [
       "<matplotlib.figure.Figure at 0x11d4075c0>"
      ]
     },
     "metadata": {},
     "output_type": "display_data"
    }
   ],
   "source": [
    "ageudes_df_pro = ageudes_df.groupby([\"Project ID-Activity Code\"]).sum().drop(columns=['Number Rn/Construct/Sample'])\n",
    "ageudes_df_pro.plot(kind='bar')\n",
    "ageudes_df_pro\n"
   ]
  },
  {
   "cell_type": "code",
   "execution_count": 39,
   "metadata": {},
   "outputs": [
    {
     "data": {
      "text/html": [
       "<div>\n",
       "<style scoped>\n",
       "    .dataframe tbody tr th:only-of-type {\n",
       "        vertical-align: middle;\n",
       "    }\n",
       "\n",
       "    .dataframe tbody tr th {\n",
       "        vertical-align: top;\n",
       "    }\n",
       "\n",
       "    .dataframe thead th {\n",
       "        text-align: right;\n",
       "    }\n",
       "</style>\n",
       "<table border=\"1\" class=\"dataframe\">\n",
       "  <thead>\n",
       "    <tr style=\"text-align: right;\">\n",
       "      <th></th>\n",
       "      <th>DIVA User</th>\n",
       "      <th>DIVA Service</th>\n",
       "      <th>Number Rn/Construct/Sample</th>\n",
       "    </tr>\n",
       "  </thead>\n",
       "  <tbody>\n",
       "    <tr>\n",
       "      <th>0</th>\n",
       "      <td>ageudes@lbl.gov</td>\n",
       "      <td>Full DNA construction</td>\n",
       "      <td>22</td>\n",
       "    </tr>\n",
       "  </tbody>\n",
       "</table>\n",
       "</div>"
      ],
      "text/plain": [
       "        DIVA User            DIVA Service  Number Rn/Construct/Sample\n",
       "0  ageudes@lbl.gov  Full DNA construction                          22"
      ]
     },
     "execution_count": 39,
     "metadata": {},
     "output_type": "execute_result"
    },
    {
     "data": {
      "image/png": "[encoded data removed]",
      "text/plain": [
       "<matplotlib.figure.Figure at 0x11d808b70>"
      ]
     },
     "metadata": {},
     "output_type": "display_data"
    }
   ],
   "source": [
    "ageudes_df_user = ageudes_df.groupby([\"DIVA User \",\"DIVA Service\"]).sum()\n",
    "ageudes_df_user = ageudes_df_user.drop(columns=[\"Cost\",\"Hours\"])\n",
    "ageudes_df_user= ageudes_df_user.reset_index()\n",
    "ageudes_df_user.pivot(index='DIVA User ',values='Number Rn/Construct/Sample',columns='DIVA Service').plot(kind='bar',stacked=True,figsize=(10,4))\n",
    "plt.ylabel(\"Number Rn/Construct/Sample\")\n",
    "plt.title(\"DIVA User_Service Usage\")\n",
    "plt.xticks(rotation=45)\n",
    "\n",
    "ageudes_df_user"
   ]
  },
  {
   "cell_type": "code",
   "execution_count": null,
   "metadata": {},
   "outputs": [],
   "source": []
  },
  {
   "cell_type": "code",
   "execution_count": null,
   "metadata": {},
   "outputs": [],
   "source": []
  },
  {
   "cell_type": "code",
   "execution_count": null,
   "metadata": {},
   "outputs": [],
   "source": []
  }
 ],
 "metadata": {
  "kernelspec": {
   "display_name": "Python 3",
   "language": "python",
   "name": "python3"
  },
  "language_info": {
   "codemirror_mode": {
    "name": "ipython",
    "version": 3
   },
   "file_extension": ".py",
   "mimetype": "text/x-python",
   "name": "python",
   "nbconvert_exporter": "python",
   "pygments_lexer": "ipython3",
   "version": "3.6.4"
  }
 },
 "nbformat": 4,
 "nbformat_minor": 2
}
