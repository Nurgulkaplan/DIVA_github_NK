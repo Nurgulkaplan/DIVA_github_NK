{
 "cells": [
  {
   "cell_type": "code",
   "execution_count": null,
   "metadata": {},
   "outputs": [],
   "source": [
    "import os\n",
    "import glob\n",
    "import csv\n",
    "import pandas as pd"
   ]
  },
  {
   "cell_type": "code",
   "execution_count": null,
   "metadata": {},
   "outputs": [],
   "source": [
    "pwd"
   ]
  },
  {
   "cell_type": "markdown",
   "metadata": {},
   "source": [
    "'CHANGE DIRECTORY TO WHERE THE FILE IS'"
   ]
  },
  {
   "cell_type": "code",
   "execution_count": null,
   "metadata": {},
   "outputs": [],
   "source": [
    "directory_info = input(\"Copy_paste your files directory path\")"
   ]
  },
  {
   "cell_type": "code",
   "execution_count": 3,
   "metadata": {},
   "outputs": [],
   "source": [
    "\n",
    "df = pd.read_csv(\"strain_plasmid_csv_upload_Florence_mingardon _May2018.csv\")"
   ]
  },
  {
   "cell_type": "code",
   "execution_count": 4,
   "metadata": {},
   "outputs": [
    {
     "data": {
      "text/plain": [
       "0                 pET24a-SaGGRwtLongHis.gb\n",
       "1                pET24a-SaGGRwtshorthis.gb\n",
       "2                   pET24a-SaGGRwtnohis.gb\n",
       "3      pET24a-SaGGR-Nt-after sequencing.gb\n",
       "4                 pET24a-AtGGRshort his.gb\n",
       "5                     pET24a-AtGGRoptLH.gb\n",
       "6                       pET24a-AtGGR-Nt.gb\n",
       "7                          pET24a-lil3h.gb\n",
       "8          pET24a-NtAtGGR-RBS-lil3nohis.gb\n",
       "9             pET24a-NtAtGGR-RBSlil3his.gb\n",
       "10            pET24a_AtGGRopt_lil3nohis.gb\n",
       "11                         pET24a-Af1LH.gb\n",
       "12                         pET24a-Af2LH.gb\n",
       "13                          pET24a-CnLH.gb\n",
       "14                          pET24a-CtLH.gb\n",
       "15                          pET24a-GpLH.gb\n",
       "16                          pET24a-HcLH.gb\n",
       "17                          pET24a-HlLH.gb\n",
       "18                          pET24a-HsLH.gb\n",
       "19                         pET24a-Hv1LH.gb\n",
       "20                         pET24a-Hv2LH.gb\n",
       "21                         pET24a-Ma2LH.gb\n",
       "22                         pET24a-Ma3LH.gb\n",
       "23                      pET24a-Marin1LH.gb\n",
       "24                      pET24a-Marin2LH.gb\n",
       "25                         pET24a-Mb1LH.gb\n",
       "26                          pET24a-McLH.gb\n",
       "27                          pET24a-MiLH.gb\n",
       "28                          pET24a-MmLH.gb\n",
       "29                         pET24a-Mr1LH.gb\n",
       "                      ...                 \n",
       "86      pET24a-Sa-L377stop-H7-insertion.gb\n",
       "87                       pTrc-NudB-AphA.gb\n",
       "88                  pTrc-NudB-AphA-SaLH.gb\n",
       "89      pTrc-NudB-AphA-term-Tcr-Sa-term.gb\n",
       "90       pTrc-NudB-AphA-term-T7-Sa-term.gb\n",
       "91              pTrc-NudB-AphA-Af1-ferr.gb\n",
       "92                pTrc-NudB-AphA-Ma-fer.gb\n",
       "93                pTrc-NudB-AphA-Mb-fer.gb\n",
       "94                pTrc-NudB-AphA-Mi-fer.gb\n",
       "95                pTrc-NudB-AphA-Sa-fer.gb\n",
       "96                      ptrc-Af1LH-ferr.gb\n",
       "97                      ptrc-Ma1LH-ferr.gb\n",
       "98                       ptrc-MbLH-ferr.gb\n",
       "99                       ptrc-MiLH-ferr.gb\n",
       "100                       ptrcSaLH-ferr.gb\n",
       "101                  pFlo426_Gal1-shMbH.gb\n",
       "102                  pFlo426_Gal1-shTnH.gb\n",
       "103               pFlo426_Gal1-shMBPAf1.gb\n",
       "104                pFlo426_Gal1-shMBPAt.gb\n",
       "105                pFlo426_Gal1-shMBPCn.gb\n",
       "106                pFlo426_Gal1-shMBPGp.gb\n",
       "107               pFlo426_Gal1-shMBPHv1.gb\n",
       "108               pFlo426_Gal1-shMBPMbH.gb\n",
       "109                pFlo426_Gal1-shMBPMc.gb\n",
       "110                pFlo426_Gal1-shMBPMi.gb\n",
       "111               pFlo426_Gal1-shMBPMr2.gb\n",
       "112                pFlo426_Gal1-shMBPPf.gb\n",
       "113                pFlo426_Gal1-shMBPSa.gb\n",
       "114               pFlo426_Gal1-shMBPSc1.gb\n",
       "115               pFlo426_Gal1-shMBPTnH.gb\n",
       "Name: Plasmid Sequence File, Length: 116, dtype: object"
      ]
     },
     "execution_count": 4,
     "metadata": {},
     "output_type": "execute_result"
    }
   ],
   "source": [
    "\n",
    "gb_file_list = df[\"Plasmid Sequence File\"]\n",
    "gb_file_list"
   ]
  },
  {
   "cell_type": "code",
   "execution_count": 5,
   "metadata": {
    "scrolled": true
   },
   "outputs": [],
   "source": [
    "# import re\n",
    "# new_gb_list = []\n",
    "# for gb in gb_file_list:\n",
    "#     file_name = re.sub('[^A-Za-z0-9]+', '', gb)\n",
    "#     new_gb_list.append(file_name)\n",
    "    \n",
    "# print(new_gb_list)"
   ]
  },
  {
   "cell_type": "code",
   "execution_count": 6,
   "metadata": {},
   "outputs": [
    {
     "name": "stdout",
     "output_type": "stream",
     "text": [
      "pET24a-SaGGRwtLongHis.gb\n",
      "pET24a-SaGGRwtshorthis.gb\n",
      "pET24a-SaGGRwtnohis.gb\n",
      "pET24a-SaGGR-Nt-aftersequencing.gb\n",
      "pET24a-AtGGRshorthis.gb\n",
      "pET24a-AtGGRoptLH.gb\n",
      "pET24a-AtGGR-Nt.gb\n",
      "pET24a-lil3h.gb\n",
      "pET24a-NtAtGGR-RBS-lil3nohis.gb\n",
      "pET24a-NtAtGGR-RBSlil3his.gb\n",
      "pET24a_AtGGRopt_lil3nohis.gb\n",
      "pET24a-Af1LH.gb\n",
      "pET24a-Af2LH.gb\n",
      "pET24a-CnLH.gb\n",
      "pET24a-CtLH.gb\n",
      "pET24a-GpLH.gb\n",
      "pET24a-HcLH.gb\n",
      "pET24a-HlLH.gb\n",
      "pET24a-HsLH.gb\n",
      "pET24a-Hv1LH.gb\n",
      "pET24a-Hv2LH.gb\n",
      "pET24a-Ma2LH.gb\n",
      "pET24a-Ma3LH.gb\n",
      "pET24a-Marin1LH.gb\n",
      "pET24a-Marin2LH.gb\n",
      "pET24a-Mb1LH.gb\n",
      "pET24a-McLH.gb\n",
      "pET24a-MiLH.gb\n",
      "pET24a-MmLH.gb\n",
      "pET24a-Mr1LH.gb\n",
      "pET24a-Mr2LH.gb\n",
      "pET24a-NgLH.gb\n",
      "pET24a-PcfLH.gb\n",
      "pET24a-PfLH.gb\n",
      "pET24a-Sc1LH.gb\n",
      "pET24a-Se1LH.gb\n",
      "pSKB3-SynChlPfatersequencing.gb\n",
      "pET24a-TnLH.gb\n",
      "pET24a-Tr1LH.gb\n",
      "pET24a-Tr2LH.gb\n",
      "pET24a-MaLH.gb\n",
      "pET24a-TaGGRop-Shorthis.gb\n",
      "pET24a-MBPSaGGRwtLo.gb\n",
      "pET24a-MBP-AtGGR-2his.gb\n",
      "pET24a-nohisMBP-AtGGR-nohis.gb\n",
      "pET24a-MBP-Af1LH.gb\n",
      "pET24a-MBP-CnLH.gb\n",
      "pET24a-MBP-CtLH.gb\n",
      "pET24a-MBP-GpLH.gb\n",
      "pET24a-MBP-HcLH.gb\n",
      "pET24a-MBP-HlLH.gb\n",
      "pET24a-MBP-HsLH.gb\n",
      "pET24a-MBP-Hv1LH.gb\n",
      "pET24a-MBP-Hv2LH.gb\n",
      "pET24a-MBP-Ma2LH.gb\n",
      "pET24a-MBP-Ma3LH.gb\n",
      "pET24a-MBP-Marin1LH.gb\n",
      "pET24a-MBP-Marin2LH.gb\n",
      "pET24a-MBP-Mb1LH.gb\n",
      "pET24a-MBP-McLH.gb\n",
      "pET24a-MBP-MiLH.gb\n",
      "pET24a-MBP-MmLH.gb\n",
      "pET24a-MBP-Mr1LH.gb\n",
      "pET24a-MBP-Mr2LH.gb\n",
      "pET24a-MBP-NgLH.gb\n",
      "pET24a-MBP-PfLH.gb\n",
      "pET24a-MBP-Sc1LH.gb\n",
      "pET24a-MBP-Se1LH.gb\n",
      "pET24a-MBP-synecLH.gb\n",
      "pET24a-MBP-TnLH.gb\n",
      "pET24a-MBP-Tr1LH.gb\n",
      "pET24a-MBP-Tr2LH.gb\n",
      "pET24a-Sa-L377L-A12.gb\n",
      "pET24a-Sa-L377T-B2.gb\n",
      "pET24a-Sa-L377N-C7.gb\n",
      "pET24a-Sa-L377G-C10.gb\n",
      "pET24a-Sa-L377L-D3.gb\n",
      "pET24a-Sa-L377M-E1.gb\n",
      "pET24a-Sa-L377V-E4.gb\n",
      "pET24a-Sa-L377D-E9.gb\n",
      "pET24a-Sa-L377V-E12.gb\n",
      "pET24a-Sa-L377L-F6.gb\n",
      "pET24a-Sa-L377P-F7.gb\n",
      "pET24a-Sa-L377R-G11.gb\n",
      "pET24a-Sa-L377L-H1.gb\n",
      "pET24a-Sa-L377G-H2.gb\n",
      "pET24a-Sa-L377stop-H7-insertion.gb\n",
      "pTrc-NudB-AphA.gb\n",
      "pTrc-NudB-AphA-SaLH.gb\n",
      "pTrc-NudB-AphA-term-Tcr-Sa-term.gb\n",
      "pTrc-NudB-AphA-term-T7-Sa-term.gb\n",
      "pTrc-NudB-AphA-Af1-ferr.gb\n",
      "pTrc-NudB-AphA-Ma-fer.gb\n",
      "pTrc-NudB-AphA-Mb-fer.gb\n",
      "pTrc-NudB-AphA-Mi-fer.gb\n",
      "pTrc-NudB-AphA-Sa-fer.gb\n",
      "ptrc-Af1LH-ferr.gb\n",
      "ptrc-Ma1LH-ferr.gb\n",
      "ptrc-MbLH-ferr.gb\n",
      "ptrc-MiLH-ferr.gb\n",
      "ptrcSaLH-ferr.gb\n",
      "pFlo426_Gal1-shMbH.gb\n",
      "pFlo426_Gal1-shTnH.gb\n",
      "pFlo426_Gal1-shMBPAf1.gb\n",
      "pFlo426_Gal1-shMBPAt.gb\n",
      "pFlo426_Gal1-shMBPCn.gb\n",
      "pFlo426_Gal1-shMBPGp.gb\n",
      "pFlo426_Gal1-shMBPHv1.gb\n",
      "pFlo426_Gal1-shMBPMbH.gb\n",
      "pFlo426_Gal1-shMBPMc.gb\n",
      "pFlo426_Gal1-shMBPMi.gb\n",
      "pFlo426_Gal1-shMBPMr2.gb\n",
      "pFlo426_Gal1-shMBPPf.gb\n",
      "pFlo426_Gal1-shMBPSa.gb\n",
      "pFlo426_Gal1-shMBPSc1.gb\n",
      "pFlo426_Gal1-shMBPTnH.gb\n"
     ]
    }
   ],
   "source": [
    "no_space = []\n",
    "for gb in gb_file_list:\n",
    "    file_name = gb.replace(\" \", \"\")\n",
    "    \n",
    "    no_space.append(file_name)\n",
    "    print(file_name)"
   ]
  },
  {
   "cell_type": "code",
   "execution_count": 7,
   "metadata": {},
   "outputs": [
    {
     "data": {
      "text/plain": [
       "116"
      ]
     },
     "execution_count": 7,
     "metadata": {},
     "output_type": "execute_result"
    }
   ],
   "source": [
    "len(no_space)"
   ]
  },
  {
   "cell_type": "code",
   "execution_count": 8,
   "metadata": {},
   "outputs": [
    {
     "data": {
      "text/plain": [
       "(116, 45)"
      ]
     },
     "execution_count": 8,
     "metadata": {},
     "output_type": "execute_result"
    }
   ],
   "source": [
    "df.shape"
   ]
  },
  {
   "cell_type": "code",
   "execution_count": 9,
   "metadata": {},
   "outputs": [],
   "source": [
    "# column_names = list(df.columns)\n",
    "# column_names"
   ]
  },
  {
   "cell_type": "code",
   "execution_count": 10,
   "metadata": {},
   "outputs": [],
   "source": [
    "# required_column_names = []\n",
    "# for name in column_names:\n",
    "#     if \"*\" in name:\n",
    "#         required_column_names.append(name)\n",
    "#     else:\n",
    "#         pass\n",
    "# print(required_column_names)"
   ]
  },
  {
   "cell_type": "code",
   "execution_count": 11,
   "metadata": {},
   "outputs": [],
   "source": [
    "# new_df = df[['Principal Investigator*', 'BioSafety Level*', 'Name*', 'Summary*', 'Status*', 'Creator*', 'Creator Email*', 'Selection Markers*', 'Plasmid Principal Investigator*', 'Plasmid BioSafety Level*', 'Plasmid Name*', 'Plasmid Summary*', 'Plasmid Status*', 'Plasmid Creator*', 'Plasmid Creator Email*', 'Plasmid Selection Markers*']]"
   ]
  },
  {
   "cell_type": "code",
   "execution_count": 12,
   "metadata": {},
   "outputs": [],
   "source": [
    "# new_df"
   ]
  },
  {
   "cell_type": "code",
   "execution_count": 13,
   "metadata": {},
   "outputs": [],
   "source": [
    "# new_df.isnull().values.any()"
   ]
  },
  {
   "cell_type": "code",
   "execution_count": 25,
   "metadata": {},
   "outputs": [
    {
     "data": {
      "text/plain": [
       "Index(['Principal Investigator*', 'Principal Investigator Email',\n",
       "       'Funding Source', 'Intellectual Property', 'BioSafety Level*', 'Name*',\n",
       "       'Alias', 'Keywords', 'Summary*', 'Notes', 'References', 'Links',\n",
       "       'Status*', 'Creator*', 'Creator Email*', 'Parent Strain',\n",
       "       'Genotype or Phenotype', 'Selection Markers*', 'Sequence Trace File(s)',\n",
       "       'Sequence File', 'Attachment File', 'Plasmid Principal Investigator*',\n",
       "       'Plasmid Principal Investigator Email', 'Plasmid Funding Source',\n",
       "       'Plasmid Intellectual Property', 'Plasmid BioSafety Level*',\n",
       "       'Plasmid Name*', 'Plasmid Alias', 'Plasmid Keywords',\n",
       "       'Plasmid Summary*', 'Plasmid Notes', 'Plasmid References',\n",
       "       'Plasmid Links', 'Plasmid Status*', 'Plasmid Creator*',\n",
       "       'Plasmid Creator Email*', 'Plasmid Circular', 'Plasmid Backbone',\n",
       "       'Plasmid Promoters', 'Plasmid Replicates In',\n",
       "       'Plasmid Origin of Replication', 'Plasmid Selection Markers*',\n",
       "       'Plasmid Sequence Trace File(s)', 'Plasmid Sequence File',\n",
       "       'Plasmid Attachment File'],\n",
       "      dtype='object')"
      ]
     },
     "execution_count": 25,
     "metadata": {},
     "output_type": "execute_result"
    }
   ],
   "source": [
    "df[\"Plasmid Sequence File\"] = no_space\n",
    "df.columns"
   ]
  },
  {
   "cell_type": "code",
   "execution_count": 22,
   "metadata": {},
   "outputs": [
    {
     "data": {
      "text/plain": [
       "116"
      ]
     },
     "execution_count": 22,
     "metadata": {},
     "output_type": "execute_result"
    }
   ],
   "source": [
    "filenames = glob.glob('*.gb')\n",
    "len(filenames)"
   ]
  },
  {
   "cell_type": "code",
   "execution_count": 23,
   "metadata": {},
   "outputs": [],
   "source": [
    "for filename in filenames:\n",
    "    os.rename(filename, filename.replace(\" \", \"\"))"
   ]
  },
  {
   "cell_type": "code",
   "execution_count": 24,
   "metadata": {},
   "outputs": [
    {
     "name": "stdout",
     "output_type": "stream",
     "text": [
      "new.csv                             pET24a-Sa-L377D-E9.gb\r\n",
      "pET24a-Af1LH.gb                     pET24a-Sa-L377G-C10.gb\r\n",
      "pET24a-Af2LH.gb                     pET24a-Sa-L377G-H2.gb\r\n",
      "\u001b[31mpET24a-AtGGR-Nt.gb\u001b[m\u001b[m*                 pET24a-Sa-L377L-A12.gb\r\n",
      "\u001b[31mpET24a-AtGGRoptLH.gb\u001b[m\u001b[m*               pET24a-Sa-L377L-D3.gb\r\n",
      "\u001b[31mpET24a-AtGGRshorthis.gb\u001b[m\u001b[m*            pET24a-Sa-L377L-F6.gb\r\n",
      "pET24a-CnLH.gb                      pET24a-Sa-L377L-H1.gb\r\n",
      "pET24a-CtLH.gb                      pET24a-Sa-L377M-E1.gb\r\n",
      "pET24a-GpLH.gb                      pET24a-Sa-L377N-C7.gb\r\n",
      "pET24a-HcLH.gb                      pET24a-Sa-L377P-F7.gb\r\n",
      "pET24a-HlLH.gb                      pET24a-Sa-L377R-G11.gb\r\n",
      "pET24a-HsLH.gb                      pET24a-Sa-L377T-B2.gb\r\n",
      "pET24a-Hv1LH.gb                     pET24a-Sa-L377V-E12.gb\r\n",
      "pET24a-Hv2LH.gb                     pET24a-Sa-L377V-E4.gb\r\n",
      "pET24a-MBP-Af1LH.gb                 pET24a-Sa-L377stop-H7-insertion.gb\r\n",
      "pET24a-MBP-AtGGR-2his.gb            \u001b[31mpET24a-SaGGR-Nt-aftersequencing.gb\u001b[m\u001b[m*\r\n",
      "pET24a-MBP-CnLH.gb                  \u001b[31mpET24a-SaGGRwtLongHis.gb\u001b[m\u001b[m*\r\n",
      "pET24a-MBP-CtLH.gb                  pET24a-SaGGRwtnohis.gb\r\n",
      "pET24a-MBP-GpLH.gb                  \u001b[31mpET24a-SaGGRwtshorthis.gb\u001b[m\u001b[m*\r\n",
      "pET24a-MBP-HcLH.gb                  pET24a-Sc1LH.gb\r\n",
      "pET24a-MBP-HlLH.gb                  pET24a-Se1LH.gb\r\n",
      "pET24a-MBP-HsLH.gb                  \u001b[31mpET24a-TaGGRop-Shorthis.gb\u001b[m\u001b[m*\r\n",
      "pET24a-MBP-Hv1LH.gb                 pET24a-TnLH.gb\r\n",
      "pET24a-MBP-Hv2LH.gb                 pET24a-Tr1LH.gb\r\n",
      "pET24a-MBP-Ma2LH.gb                 pET24a-Tr2LH.gb\r\n",
      "pET24a-MBP-Ma3LH.gb                 \u001b[31mpET24a-lil3h.gb\u001b[m\u001b[m*\r\n",
      "pET24a-MBP-Marin1LH.gb              pET24a-nohisMBP-AtGGR-nohis.gb\r\n",
      "pET24a-MBP-Marin2LH.gb              pET24a_AtGGRopt_lil3nohis.gb\r\n",
      "pET24a-MBP-Mb1LH.gb                 pFlo426_Gal1-shMBPAf1.gb\r\n",
      "pET24a-MBP-McLH.gb                  pFlo426_Gal1-shMBPAt.gb\r\n",
      "pET24a-MBP-MiLH.gb                  pFlo426_Gal1-shMBPCn.gb\r\n",
      "pET24a-MBP-MmLH.gb                  pFlo426_Gal1-shMBPGp.gb\r\n",
      "pET24a-MBP-Mr1LH.gb                 pFlo426_Gal1-shMBPHv1.gb\r\n",
      "pET24a-MBP-Mr2LH.gb                 pFlo426_Gal1-shMBPMbH.gb\r\n",
      "pET24a-MBP-NgLH.gb                  pFlo426_Gal1-shMBPMc.gb\r\n",
      "pET24a-MBP-PfLH.gb                  pFlo426_Gal1-shMBPMi.gb\r\n",
      "pET24a-MBP-Sc1LH.gb                 pFlo426_Gal1-shMBPMr2.gb\r\n",
      "pET24a-MBP-Se1LH.gb                 pFlo426_Gal1-shMBPPf.gb\r\n",
      "pET24a-MBP-TnLH.gb                  pFlo426_Gal1-shMBPSa.gb\r\n",
      "pET24a-MBP-Tr1LH.gb                 pFlo426_Gal1-shMBPSc1.gb\r\n",
      "pET24a-MBP-Tr2LH.gb                 pFlo426_Gal1-shMBPTnH.gb\r\n",
      "pET24a-MBP-synecLH.gb               pFlo426_Gal1-shMbH.gb\r\n",
      "pET24a-MBPSaGGRwtLo.gb              pFlo426_Gal1-shTnH.gb\r\n",
      "pET24a-Ma2LH.gb                     pSKB3-SynChlPfatersequencing.gb\r\n",
      "pET24a-Ma3LH.gb                     pTrc-NudB-AphA-Af1-ferr.gb\r\n",
      "pET24a-MaLH.gb                      pTrc-NudB-AphA-Ma-fer.gb\r\n",
      "pET24a-Marin1LH.gb                  pTrc-NudB-AphA-Mb-fer.gb\r\n",
      "pET24a-Marin2LH.gb                  pTrc-NudB-AphA-Mi-fer.gb\r\n",
      "pET24a-Mb1LH.gb                     pTrc-NudB-AphA-Sa-fer.gb\r\n",
      "pET24a-McLH.gb                      pTrc-NudB-AphA-SaLH.gb\r\n",
      "pET24a-MiLH.gb                      pTrc-NudB-AphA-term-T7-Sa-term.gb\r\n",
      "pET24a-MmLH.gb                      pTrc-NudB-AphA-term-Tcr-Sa-term.gb\r\n",
      "pET24a-Mr1LH.gb                     pTrc-NudB-AphA.gb\r\n",
      "pET24a-Mr2LH.gb                     ptrc-Af1LH-ferr.gb\r\n",
      "pET24a-NgLH.gb                      ptrc-Ma1LH-ferr.gb\r\n",
      "pET24a-NtAtGGR-RBS-lil3nohis.gb     ptrc-MbLH-ferr.gb\r\n",
      "\u001b[31mpET24a-NtAtGGR-RBSlil3his.gb\u001b[m\u001b[m*       ptrc-MiLH-ferr.gb\r\n",
      "pET24a-PcfLH.gb                     ptrcSaLH-ferr.gb\r\n",
      "pET24a-PfLH.gb\r\n"
     ]
    }
   ],
   "source": [
    "ls"
   ]
  },
  {
   "cell_type": "code",
   "execution_count": 18,
   "metadata": {},
   "outputs": [],
   "source": [
    "\n",
    "for item in  df[\"Plasmid Sequence File\"]:\n",
    "    if item not in filenames:\n",
    "        print(item)\n",
    "    else:\n",
    "        pass"
   ]
  },
  {
   "cell_type": "code",
   "execution_count": 19,
   "metadata": {},
   "outputs": [],
   "source": [
    "df.to_csv(\"new.csv\")"
   ]
  },
  {
   "cell_type": "code",
   "execution_count": 20,
   "metadata": {},
   "outputs": [
    {
     "data": {
      "text/plain": [
       "'/Users/nkaplan/Downloads/new'"
      ]
     },
     "execution_count": 20,
     "metadata": {},
     "output_type": "execute_result"
    }
   ],
   "source": [
    "pwd"
   ]
  },
  {
   "cell_type": "code",
   "execution_count": 1,
   "metadata": {},
   "outputs": [
    {
     "data": {
      "text/plain": [
       "'/Users/nkaplan/Desktop/DIVA_github_NK'"
      ]
     },
     "execution_count": 1,
     "metadata": {},
     "output_type": "execute_result"
    }
   ],
   "source": [
    "pwd"
   ]
  },
  {
   "cell_type": "code",
   "execution_count": 2,
   "metadata": {},
   "outputs": [
    {
     "name": "stdout",
     "output_type": "stream",
     "text": [
      "Accounting_DIVA_04032018-final.ipynb\r\n",
      "Accounting_DIVA_04032018.ipynb\r\n",
      "AscendingDNASize_BiomekForNimbus2018.ipynb\r\n",
      "Assembly_Echo_ins.ipynb\r\n",
      "DIVA_COST_DATA.ipynb\r\n",
      "Echo_PCR_INST_20180403.csv\r\n",
      "Echo_PCR_inst_04012018.ipynb\r\n",
      "Gibson_20180407.ipynb\r\n",
      "ICE__strain_entry_bulkimport_check-Copy1.ipynb\r\n",
      "ICE__strain_entry_bulkimport_check.ipynb\r\n",
      "JBEI_ABF_DIVA_Cost_FY18 - final.csv\r\n",
      "PCR_Echo_ins_generator2018.ipynb\r\n",
      "PI.csv\r\n",
      "PI_DIVA_Accounting_20180406.ipynb\r\n",
      "Pablo_3Rn_pcr.csv\r\n",
      "README.md\r\n",
      "\u001b[34massembly_reactions_592018\u001b[m\u001b[m/\r\n",
      "assemblyfilestocondense_condensed.csv\r\n",
      "echo_test.csv\r\n"
     ]
    }
   ],
   "source": [
    "ls"
   ]
  },
  {
   "cell_type": "code",
   "execution_count": null,
   "metadata": {},
   "outputs": [],
   "source": []
  }
 ],
 "metadata": {
  "kernelspec": {
   "display_name": "Python 3",
   "language": "python",
   "name": "python3"
  },
  "language_info": {
   "codemirror_mode": {
    "name": "ipython",
    "version": 3
   },
   "file_extension": ".py",
   "mimetype": "text/x-python",
   "name": "python",
   "nbconvert_exporter": "python",
   "pygments_lexer": "ipython3",
   "version": "3.6.4"
  }
 },
 "nbformat": 4,
 "nbformat_minor": 2
}
