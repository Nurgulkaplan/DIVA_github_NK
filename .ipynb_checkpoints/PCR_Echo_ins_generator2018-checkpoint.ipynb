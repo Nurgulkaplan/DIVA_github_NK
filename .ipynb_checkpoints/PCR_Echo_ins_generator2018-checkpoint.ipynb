{
 "cells": [
  {
   "cell_type": "code",
   "execution_count": 1,
   "metadata": {},
   "outputs": [],
   "source": [
    "import csv\n",
    "import pandas as pd"
   ]
  },
  {
   "cell_type": "code",
   "execution_count": 2,
   "metadata": {},
   "outputs": [
    {
     "name": "stdout",
     "output_type": "stream",
     "text": [
      "File_Name?Andy_ZerbeCOgenetruncations - PCR.csv\n"
     ]
    }
   ],
   "source": [
    "csv_path = input(\"File_Name?\")\n"
   ]
  },
  {
   "cell_type": "code",
   "execution_count": 3,
   "metadata": {},
   "outputs": [],
   "source": [
    "source_well=[]\n",
    "primer_F_well=[]\n",
    "primer_R_well=[]\n",
    "\n",
    "with open(csv_path, newline=\"\") as csv_file:\n",
    "    csv_data = csv.reader(csv_file,delimiter=\",\")\n",
    "    rows= list(csv_data)\n",
    "    for cols in rows[1:]:\n",
    "        well_temp = cols[2]\n",
    "        pri_For_well = cols[5]\n",
    "        pri_Rev_well = cols[8]\n",
    "        source_well.append(well_temp)\n",
    "        primer_F_well.append(pri_For_well)\n",
    "        primer_R_well.append(pri_Rev_well)"
   ]
  },
  {
   "cell_type": "code",
   "execution_count": 4,
   "metadata": {},
   "outputs": [],
   "source": [
    "source_well.extend(primer_F_well)\n",
    "source_well.extend(primer_R_well)"
   ]
  },
  {
   "cell_type": "code",
   "execution_count": 5,
   "metadata": {},
   "outputs": [],
   "source": [
    "df = pd.DataFrame(source_well, columns=['Source Well'])\n",
    "\n",
    "# df.head()"
   ]
  },
  {
   "cell_type": "code",
   "execution_count": 6,
   "metadata": {},
   "outputs": [],
   "source": [
    "Destination_well=[]\n",
    "with open(csv_path, newline=\"\") as csv_file:\n",
    "    csv_data = csv.reader(csv_file,delimiter=\",\")\n",
    "    rows= list(csv_data)\n",
    "    for cols in rows[1:]:\n",
    "        Dest_Well = cols[14]\n",
    "        Destination_well.append(Dest_Well)\n",
    "        \n",
    "# print(Destination_well)"
   ]
  },
  {
   "cell_type": "code",
   "execution_count": 7,
   "metadata": {},
   "outputs": [],
   "source": [
    "Destination_well_Final= 3*Destination_well\n",
    "# len(Destination_well_Final)\n",
    "\n",
    "df['Destination well'] = Destination_well_Final"
   ]
  },
  {
   "cell_type": "code",
   "execution_count": 8,
   "metadata": {},
   "outputs": [
    {
     "name": "stdout",
     "output_type": "stream",
     "text": [
      "Template DNA volume(ul): ?1000\n",
      "Primer (Forward) volume(ul): ?600\n",
      "Primer (Reverse) volume(ul): ?600\n"
     ]
    }
   ],
   "source": [
    "Temp_vol= int(input(\"Template DNA volume(ul): ?\"))\n",
    "Primer_For_vol= int(input(\"Primer (Forward) volume(ul): ?\"))\n",
    "Primer_Rev_vol= int(input(\"Primer (Reverse) volume(ul): ?\"))"
   ]
  },
  {
   "cell_type": "code",
   "execution_count": 9,
   "metadata": {},
   "outputs": [],
   "source": [
    "rn_num = df.count()[0]\n",
    "# rn_num"
   ]
  },
  {
   "cell_type": "code",
   "execution_count": 10,
   "metadata": {},
   "outputs": [],
   "source": [
    "temp_vol_list= [Temp_vol]\n",
    "temp_vol_list=temp_vol_list*(int(rn_num/3))\n",
    "\n",
    "primer_F_vol_list= [Primer_For_vol]\n",
    "primer_F_vol_list = primer_F_vol_list*(int(rn_num/3))\n",
    "\n",
    "primer_R_vol_list= [Primer_Rev_vol]\n",
    "primer_R_vol_list = primer_R_vol_list*(int(rn_num/3))\n",
    "\n",
    "primer_R_vol_list\n",
    "\n",
    "temp_vol_list.extend(primer_F_vol_list)\n",
    "temp_vol_list.extend(primer_R_vol_list)\n",
    "Final_vol_list= temp_vol_list\n",
    "# Final_vol_list"
   ]
  },
  {
   "cell_type": "code",
   "execution_count": 11,
   "metadata": {},
   "outputs": [
    {
     "data": {
      "text/plain": [
       "24"
      ]
     },
     "execution_count": 11,
     "metadata": {},
     "output_type": "execute_result"
    }
   ],
   "source": [
    "len(Final_vol_list)"
   ]
  },
  {
   "cell_type": "code",
   "execution_count": 12,
   "metadata": {},
   "outputs": [
    {
     "data": {
      "text/html": [
       "<div>\n",
       "<style scoped>\n",
       "    .dataframe tbody tr th:only-of-type {\n",
       "        vertical-align: middle;\n",
       "    }\n",
       "\n",
       "    .dataframe tbody tr th {\n",
       "        vertical-align: top;\n",
       "    }\n",
       "\n",
       "    .dataframe thead th {\n",
       "        text-align: right;\n",
       "    }\n",
       "</style>\n",
       "<table border=\"1\" class=\"dataframe\">\n",
       "  <thead>\n",
       "    <tr style=\"text-align: right;\">\n",
       "      <th></th>\n",
       "      <th>Source Well</th>\n",
       "      <th>Destination well</th>\n",
       "      <th>Transfer Volume</th>\n",
       "    </tr>\n",
       "  </thead>\n",
       "  <tbody>\n",
       "    <tr>\n",
       "      <th>0</th>\n",
       "      <td>D13</td>\n",
       "      <td>A01</td>\n",
       "      <td>1000</td>\n",
       "    </tr>\n",
       "    <tr>\n",
       "      <th>1</th>\n",
       "      <td>A13</td>\n",
       "      <td>B01</td>\n",
       "      <td>1000</td>\n",
       "    </tr>\n",
       "    <tr>\n",
       "      <th>2</th>\n",
       "      <td>B13</td>\n",
       "      <td>C01</td>\n",
       "      <td>1000</td>\n",
       "    </tr>\n",
       "    <tr>\n",
       "      <th>3</th>\n",
       "      <td>C13</td>\n",
       "      <td>D01</td>\n",
       "      <td>1000</td>\n",
       "    </tr>\n",
       "    <tr>\n",
       "      <th>4</th>\n",
       "      <td>E13</td>\n",
       "      <td>E01</td>\n",
       "      <td>1000</td>\n",
       "    </tr>\n",
       "  </tbody>\n",
       "</table>\n",
       "</div>"
      ],
      "text/plain": [
       "  Source Well Destination well  Transfer Volume\n",
       "0         D13              A01             1000\n",
       "1         A13              B01             1000\n",
       "2         B13              C01             1000\n",
       "3         C13              D01             1000\n",
       "4         E13              E01             1000"
      ]
     },
     "execution_count": 12,
     "metadata": {},
     "output_type": "execute_result"
    }
   ],
   "source": [
    "df[\"Transfer Volume\"]= Final_vol_list\n",
    "df.head()"
   ]
  },
  {
   "cell_type": "code",
   "execution_count": 13,
   "metadata": {},
   "outputs": [
    {
     "data": {
      "text/html": [
       "<div>\n",
       "<style scoped>\n",
       "    .dataframe tbody tr th:only-of-type {\n",
       "        vertical-align: middle;\n",
       "    }\n",
       "\n",
       "    .dataframe tbody tr th {\n",
       "        vertical-align: top;\n",
       "    }\n",
       "\n",
       "    .dataframe thead th {\n",
       "        text-align: right;\n",
       "    }\n",
       "</style>\n",
       "<table border=\"1\" class=\"dataframe\">\n",
       "  <thead>\n",
       "    <tr style=\"text-align: right;\">\n",
       "      <th></th>\n",
       "      <th>Destination well</th>\n",
       "      <th>Transfer Volume</th>\n",
       "    </tr>\n",
       "    <tr>\n",
       "      <th>Source Well</th>\n",
       "      <th></th>\n",
       "      <th></th>\n",
       "    </tr>\n",
       "  </thead>\n",
       "  <tbody>\n",
       "    <tr>\n",
       "      <th>D13</th>\n",
       "      <td>A01</td>\n",
       "      <td>1000</td>\n",
       "    </tr>\n",
       "    <tr>\n",
       "      <th>A13</th>\n",
       "      <td>B01</td>\n",
       "      <td>1000</td>\n",
       "    </tr>\n",
       "    <tr>\n",
       "      <th>B13</th>\n",
       "      <td>C01</td>\n",
       "      <td>1000</td>\n",
       "    </tr>\n",
       "    <tr>\n",
       "      <th>C13</th>\n",
       "      <td>D01</td>\n",
       "      <td>1000</td>\n",
       "    </tr>\n",
       "    <tr>\n",
       "      <th>E13</th>\n",
       "      <td>E01</td>\n",
       "      <td>1000</td>\n",
       "    </tr>\n",
       "  </tbody>\n",
       "</table>\n",
       "</div>"
      ],
      "text/plain": [
       "            Destination well  Transfer Volume\n",
       "Source Well                                  \n",
       "D13                      A01             1000\n",
       "A13                      B01             1000\n",
       "B13                      C01             1000\n",
       "C13                      D01             1000\n",
       "E13                      E01             1000"
      ]
     },
     "execution_count": 13,
     "metadata": {},
     "output_type": "execute_result"
    }
   ],
   "source": [
    "df = df.set_index('Source Well')\n",
    "df.head()"
   ]
  },
  {
   "cell_type": "code",
   "execution_count": 14,
   "metadata": {},
   "outputs": [
    {
     "name": "stdout",
     "output_type": "stream",
     "text": [
      "Name Echo file?ANDY_PCR_ECHO_INS_20180424\n"
     ]
    }
   ],
   "source": [
    "echo_ins = input(\"Name Echo file?\")\n"
   ]
  },
  {
   "cell_type": "code",
   "execution_count": 15,
   "metadata": {},
   "outputs": [],
   "source": [
    "df.to_csv(f\"{echo_ins}.csv\")"
   ]
  },
  {
   "cell_type": "code",
   "execution_count": null,
   "metadata": {},
   "outputs": [],
   "source": [
    "\n"
   ]
  },
  {
   "cell_type": "code",
   "execution_count": null,
   "metadata": {},
   "outputs": [],
   "source": []
  }
 ],
 "metadata": {
  "kernelspec": {
   "display_name": "Python 3",
   "language": "python",
   "name": "python3"
  },
  "language_info": {
   "codemirror_mode": {
    "name": "ipython",
    "version": 3
   },
   "file_extension": ".py",
   "mimetype": "text/x-python",
   "name": "python",
   "nbconvert_exporter": "python",
   "pygments_lexer": "ipython3",
   "version": "3.6.4"
  }
 },
 "nbformat": 4,
 "nbformat_minor": 2
}
