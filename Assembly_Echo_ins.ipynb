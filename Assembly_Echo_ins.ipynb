{
 "cells": [
  {
   "cell_type": "code",
   "execution_count": 9,
   "metadata": {},
   "outputs": [],
   "source": [
    "import csv\n",
    "import pandas as pd\n",
    "import numpy as np"
   ]
  },
  {
   "cell_type": "code",
   "execution_count": 10,
   "metadata": {},
   "outputs": [],
   "source": []
  },
  {
   "cell_type": "code",
   "execution_count": 12,
   "metadata": {},
   "outputs": [
    {
     "name": "stdout",
     "output_type": "stream",
     "text": [
      "['Number', 'Name', 'Assembly Method', 'Part(s)', 'Assembly Piece ID Number', 'Part(s)', 'Assembly Piece ID Number', 'Part(s)', 'Assembly Piece ID Number', 'Part(s)', 'Assembly Piece ID Number', 'Part(s)', 'Assembly Piece ID Number', 'Part(s)', 'Assembly Piece ID Number']\n",
      "['0', 'pDVA00001', 'Golden-gate', '(Vector_BB)', '0', '(Prom1)', '1', '(BCD1)', '2', '', '', '', '', '', '']\n",
      "['1', 'pDVA02301', 'Golden-gate', '(glu23am_T169)_(NNK1)', '3', '', '', '', '', '', '', '', '', '', '']\n",
      "['2', 'pDVA02302', 'Golden-gate', '(glu23am_R170)_(NNK2)', '4', '', '', '', '', '', '', '', '', '', '']\n",
      "['3', 'pDVA02303', 'Golden-gate', '(glu23am_R171)_(NNK3)', '5', '', '', '', '', '', '', '', '', '', '']\n",
      "['4', 'pDVA02304', 'Golden-gate', '(glu23am_Y172)_(NNK4)', '6', '', '', '', '', '', '', '', '', '', '']\n",
      "['5', 'pDVA02305', 'Golden-gate', '(glu23am_L176)_(NNK6)', '7', '', '', '', '', '', '', '', '', '', '']\n",
      "['6', 'pDVA02306', 'Golden-gate', '(glu23am_I177)_(NNK7)', '8', '', '', '', '', '', '', '', '', '', '']\n",
      "['7', 'pDVA02307', 'Golden-gate', '(glu23am_I178)_(NNK8)', '9', '', '', '', '', '', '', '', '', '', '']\n",
      "['8', 'pDVA02308', 'Golden-gate', '(glu23am_N179)_(NNK9)', '10', '', '', '', '', '', '', '', '', '', '']\n",
      "['9', 'pDVA02309', 'Golden-gate', '(glu23am_H190)_(NNK11)', '11', '', '', '', '', '', '', '', '', '', '']\n",
      "['10', 'pDVA02310', 'Golden-gate', '(glu23am_Q192)_(NNK12)', '12', '', '', '', '', '', '', '', '', '', '']\n",
      "['11', 'pDVA02311', 'Golden-gate', '(glu23am_R195)_(NNK13)', '13', '', '', '', '', '', '', '', '', '', '']\n",
      "['12', 'pDVA02312', 'Golden-gate', '(glu23am_N196)_(NNK14)', '14', '', '', '', '', '', '', '', '', '', '']\n",
      "['13', 'pDVA02313', 'Golden-gate', '(glu23am_V225)_(NNK15)', '15', '', '', '', '', '', '', '', '', '', '']\n",
      "['14', 'pDVA02314', 'Golden-gate', '(glu23am_L226)_(NNK16)', '16', '', '', '', '', '', '', '', '', '', '']\n",
      "['15', 'pDVA02315', 'Golden-gate', '(glu23am_V227)_(NNK17)', '17', '', '', '', '', '', '', '', '', '', '']\n",
      "['16', 'pDVA02316', 'Golden-gate', '(glu23am_A232)_(NNK18)', '18', '', '', '', '', '', '', '', '', '', '']\n",
      "['17', 'pDVA02317', 'Golden-gate', '(glu23am_L258)_(NNK19)', '19', '', '', '', '', '', '', '', '', '', '']\n",
      "['18', 'pDVA02318', 'Golden-gate', '(glu23am_G259)_(NNK20)', '20', '', '', '', '', '', '', '', '', '', '']\n",
      "['19', 'pDVA02319', 'Golden-gate', '(glu23am_T260)_(NNK21)', '21', '', '', '', '', '', '', '', '', '', '']\n",
      "['20', 'pDVA02320', 'Golden-gate', '(glu23am_I286)_(NNK23)', '22', '', '', '', '', '', '', '', '', '', '']\n",
      "['21', 'pDVA02321', 'Golden-gate', '(glu23am_N287)_(NNK24)', '23', '', '', '', '', '', '', '', '', '', '']\n",
      "['22', 'pDVA02322', 'Golden-gate', '(glu23am_N316)_(NNK25)', '24', '', '', '', '', '', '', '', '', '', '']\n",
      "['23', 'pDVA02323', 'Golden-gate', '(glu23am_Q317)_(NNK26)', '25', '', '', '', '', '', '', '', '', '', '']\n",
      "['24', 'pDVA02324', 'Golden-gate', '(glu23am_A318)_(NNK27)', '26', '', '', '', '', '', '', '', '', '', '']\n",
      "['25', 'pDVA02325', 'Golden-gate', '(glu23am_V319)_(NNK28)', '27', '', '', '', '', '', '', '', '', '', '']\n",
      "['26', 'pDVA02326', 'Golden-gate', '(glu23am_L320)_(NNK29)', '28', '', '', '', '', '', '', '', '', '', '']\n",
      "['27', 'pDVA02327', 'Golden-gate', '(glu23am_Y346)_(NNK30)', '29', '', '', '', '', '', '', '', '', '', '']\n",
      "['28', 'pDVA02328', 'Golden-gate', '(glu23am_Y347)_(NNK31)', '30', '', '', '', '', '', '', '', '', '', '']\n",
      "['29', 'pDVA02329', 'Golden-gate', '(glu23am_I348)_(NNK32)', '31', '', '', '', '', '', '', '', '', '', '']\n",
      "['30', 'pDVA02330', 'Golden-gate', '(glu23am_F349)_(NNK33)', '32', '', '', '', '', '', '', '', '', '', '']\n",
      "['31', 'pDVA02331', 'Golden-gate', '(glu23am_Q350)_(NNK34)', '33', '', '', '', '', '', '', '', '', '', '']\n",
      "['32', 'pDVA02332', 'Golden-gate', '(glu23am_S351)_(NNK35)', '34', '', '', '', '', '', '', '', '', '', '']\n",
      "['33', 'pDVA02333', 'Golden-gate', '(glu23am_K352)_(NNK36)', '35', '', '', '', '', '', '', '', '', '', '']\n",
      "['34', 'pDVA02334', 'Golden-gate', '(glu23am_H353)_(NNK37)', '36', '', '', '', '', '', '', '', '', '', '']\n",
      "['35', 'pDVA02335', 'Golden-gate', '(glu23am_I387)_(NNK38)', '37', '', '', '', '', '', '', '', '', '', '']\n",
      "['36', 'pDVA02336', 'Golden-gate', '(glu23am_V388)_(NNK39)', '38', '', '', '', '', '', '', '', '', '', '']\n",
      "['37', 'pDVA02337', 'Golden-gate', '(glu23am_N389)_(NNK40)', '39', '', '', '', '', '', '', '', '', '', '']\n",
      "['38', 'pDVA02338', 'Golden-gate', '(glu23am_A390)_(NNK41)', '40', '', '', '', '', '', '', '', '', '', '']\n",
      "['39', 'pDVA02339', 'Golden-gate', '(glu23am_G395)_(NNK42)', '41', '', '', '', '', '', '', '', '', '', '']\n",
      "['40', 'pDVA02340', 'Golden-gate', '(glu23am_T397)_(NNK43)', '42', '', '', '', '', '', '', '', '', '', '']\n",
      "['41', 'pDVA02341', 'Golden-gate', '(bb)', '43', '(ecAtoAD)', '44', '(rbs1)_(thiolaseFromAcinetobacter)', '45', '(rbs2ATG)_(caMCR_cTerm)', '46', '(rbs3)_(ecPurTfirstHalf)_(bsaIFix)', '47', '(ecPurTsecondHalf)', '48']\n",
      "['42', 'pDVA02342', 'Golden-gate', '(bb)', '43', '(ecAtoAD)', '44', '(rbs1)_(thiolaseFromAcinetobacter)', '45', '(rbs2ATG)_(caMCR_cTerm_DINA-10)', '49', '(rbs3)_(ecPurTfirstHalf)_(bsaIFix)', '47', '(ecPurTsecondHalf)', '48']\n"
     ]
    }
   ],
   "source": [
    "csv_path = \"condense_nk.csv\"\n",
    "with open(csv_path,newline=\"\") as csv_file:\n",
    "    csv_reader = csv.reader(csv_file,delimiter=\",\")\n",
    "    rows = list(csv_reader)\n",
    "    for cols in rows:\n",
    "        print(cols)\n",
    "        "
   ]
  },
  {
   "cell_type": "code",
   "execution_count": null,
   "metadata": {},
   "outputs": [],
   "source": []
  }
 ],
 "metadata": {
  "kernelspec": {
   "display_name": "Python 3",
   "language": "python",
   "name": "python3"
  },
  "language_info": {
   "codemirror_mode": {
    "name": "ipython",
    "version": 3
   },
   "file_extension": ".py",
   "mimetype": "text/x-python",
   "name": "python",
   "nbconvert_exporter": "python",
   "pygments_lexer": "ipython3",
   "version": "3.6.4"
  }
 },
 "nbformat": 4,
 "nbformat_minor": 2
}
